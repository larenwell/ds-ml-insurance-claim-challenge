{
 "cells": [
  {
   "cell_type": "markdown",
   "id": "1b5a90c3",
   "metadata": {},
   "source": [
    "# Data Science Challenge\n",
    "\n",
    "**Objetivo: Desarrollar un script en Python que utilice aprendizaje automático para predecir si un cliente presentará un reclamo de seguro en el próximo año.**\n",
    "\n",
    "Descripción: La compañía aseguradora está interesada en predecir si un cliente presentará un reclamo de seguro en el próximo año para poder tomar medidas preventivas y mejorar la satisfacción del cliente. La compañía ha recopilado datos históricos de clientes y reclamos y quiere utilizarlos para desarrollar un modelo de aprendizaje automático que pueda predecir si un cliente presentará un reclamo de seguro en el próximo año."
   ]
  },
  {
   "cell_type": "markdown",
   "id": "342522b4",
   "metadata": {},
   "source": [
    "## Instalar las dependencias"
   ]
  },
  {
   "cell_type": "code",
   "execution_count": 38,
   "id": "00af461e",
   "metadata": {},
   "outputs": [],
   "source": [
    "#!pip install -r requirements.txt"
   ]
  },
  {
   "cell_type": "code",
   "execution_count": 39,
   "id": "b1fb96c5",
   "metadata": {},
   "outputs": [],
   "source": [
    "#!pip install pycaret"
   ]
  },
  {
   "cell_type": "markdown",
   "id": "cd78dbb9",
   "metadata": {},
   "source": [
    "# Entendimiento inicial de los datos"
   ]
  },
  {
   "cell_type": "markdown",
   "id": "0cd8dd28",
   "metadata": {},
   "source": [
    "## Cargar Librerias"
   ]
  },
  {
   "cell_type": "code",
   "execution_count": null,
   "id": "653569d3",
   "metadata": {},
   "outputs": [],
   "source": [
    "# %matplotlib inline\n",
    "\n",
    "import re\n",
    "import random\n",
    "from collections import Counter\n",
    "\n",
    "import numpy as np\n",
    "import pandas as pd\n",
    "\n",
    "from scipy.stats import kstest\n",
    "\n",
    "import matplotlib.pyplot as plt\n",
    "import seaborn as sns\n",
    "sns.set(style='darkgrid')\n",
    "\n",
    "import scikit-learn\n",
    "import warnings\n",
    "warnings.filterwarnings(\"ignore\")\n",
    "\n",
    "#from pycaret.classification import *\n",
    "#import shap"
   ]
  },
  {
   "cell_type": "markdown",
   "id": "9148a9f8",
   "metadata": {},
   "source": [
    "## Definición de funciones"
   ]
  },
  {
   "cell_type": "code",
   "execution_count": null,
   "id": "504a8b50",
   "metadata": {},
   "outputs": [],
   "source": []
  },
  {
   "cell_type": "markdown",
   "id": "bada07c4",
   "metadata": {},
   "source": [
    "## Lectura y validación de datos"
   ]
  },
  {
   "cell_type": "code",
   "execution_count": 19,
   "id": "79c1f769",
   "metadata": {},
   "outputs": [],
   "source": [
    "# Ruta donde se encuentra alojado el dataset del caso\n",
    "url_data='../data/'"
   ]
  },
  {
   "cell_type": "code",
   "execution_count": 16,
   "id": "b37b4dd2",
   "metadata": {},
   "outputs": [],
   "source": [
    "# Lectura y carga de la data\n",
    "df=pd.read_csv(url_data+'datos_de_prueba.csv', na_values='?', low_memory=False)"
   ]
  },
  {
   "cell_type": "code",
   "execution_count": 17,
   "id": "d428d771",
   "metadata": {},
   "outputs": [
    {
     "name": "stdout",
     "output_type": "stream",
     "text": [
      "<class 'pandas.core.frame.DataFrame'>\n",
      "RangeIndex: 3000 entries, 0 to 2999\n",
      "Data columns (total 15 columns):\n",
      " #   Column                        Non-Null Count  Dtype \n",
      "---  ------                        --------------  ----- \n",
      " 0   ID del cliente                3000 non-null   int64 \n",
      " 1   Sexo                          3000 non-null   object\n",
      " 2   Edad                          3000 non-null   int64 \n",
      " 3   Ingresos                      3000 non-null   int64 \n",
      " 4   Tipo de hogar                 3000 non-null   object\n",
      " 5   Estado civil                  3000 non-null   object\n",
      " 6   Número de hijos               3000 non-null   int64 \n",
      " 7   Puntuación de crédito         3000 non-null   int64 \n",
      " 8   Tipo de trabajo               3000 non-null   object\n",
      " 9   Educación                     3000 non-null   object\n",
      " 10  Fecha de inicio de la póliza  3000 non-null   object\n",
      " 11  Tipo de seguro                3000 non-null   object\n",
      " 12  Monto del seguro              3000 non-null   int64 \n",
      " 13  Fecha del reclamo             3000 non-null   object\n",
      " 14  Monto del reclamo             3000 non-null   int64 \n",
      "dtypes: int64(7), object(8)\n",
      "memory usage: 351.7+ KB\n"
     ]
    }
   ],
   "source": [
    "# Validar la correcta lectura del dataframe\n",
    "df.info()"
   ]
  },
  {
   "cell_type": "markdown",
   "id": "072e8f2c",
   "metadata": {},
   "source": [
    "Se observa que se tienen 3000 filas y 15 columnas de los tipos int64(7), object(8). Se tiene que modificar el tipo de dato de las variables: ID de cliente, Fecha de inicio de la póliza, Fecha del reclamo para su posterior tratamiento.\n",
    "\n",
    "No se tienen valores vacios."
   ]
  },
  {
   "cell_type": "code",
   "execution_count": 18,
   "id": "fa20d4d5",
   "metadata": {},
   "outputs": [
    {
     "data": {
      "text/html": [
       "<div>\n",
       "<style scoped>\n",
       "    .dataframe tbody tr th:only-of-type {\n",
       "        vertical-align: middle;\n",
       "    }\n",
       "\n",
       "    .dataframe tbody tr th {\n",
       "        vertical-align: top;\n",
       "    }\n",
       "\n",
       "    .dataframe thead th {\n",
       "        text-align: right;\n",
       "    }\n",
       "</style>\n",
       "<table border=\"1\" class=\"dataframe\">\n",
       "  <thead>\n",
       "    <tr style=\"text-align: right;\">\n",
       "      <th></th>\n",
       "      <th>ID del cliente</th>\n",
       "      <th>Sexo</th>\n",
       "      <th>Edad</th>\n",
       "      <th>Ingresos</th>\n",
       "      <th>Tipo de hogar</th>\n",
       "      <th>Estado civil</th>\n",
       "      <th>Número de hijos</th>\n",
       "      <th>Puntuación de crédito</th>\n",
       "      <th>Tipo de trabajo</th>\n",
       "      <th>Educación</th>\n",
       "      <th>Fecha de inicio de la póliza</th>\n",
       "      <th>Tipo de seguro</th>\n",
       "      <th>Monto del seguro</th>\n",
       "      <th>Fecha del reclamo</th>\n",
       "      <th>Monto del reclamo</th>\n",
       "    </tr>\n",
       "  </thead>\n",
       "  <tbody>\n",
       "    <tr>\n",
       "      <th>0</th>\n",
       "      <td>1</td>\n",
       "      <td>Femenino</td>\n",
       "      <td>28</td>\n",
       "      <td>558900</td>\n",
       "      <td>Departamento</td>\n",
       "      <td>Viudo</td>\n",
       "      <td>3</td>\n",
       "      <td>556</td>\n",
       "      <td>Empresario</td>\n",
       "      <td>Preparatoria</td>\n",
       "      <td>2022-03-28</td>\n",
       "      <td>Vida</td>\n",
       "      <td>1806</td>\n",
       "      <td>2022-11-14</td>\n",
       "      <td>558</td>\n",
       "    </tr>\n",
       "    <tr>\n",
       "      <th>1</th>\n",
       "      <td>2</td>\n",
       "      <td>Femenino</td>\n",
       "      <td>18</td>\n",
       "      <td>212925</td>\n",
       "      <td>Departamento</td>\n",
       "      <td>Viudo</td>\n",
       "      <td>1</td>\n",
       "      <td>330</td>\n",
       "      <td>Empleado</td>\n",
       "      <td>Posgrado</td>\n",
       "      <td>2022-09-15</td>\n",
       "      <td>Vida</td>\n",
       "      <td>1371</td>\n",
       "      <td>2022-04-25</td>\n",
       "      <td>922</td>\n",
       "    </tr>\n",
       "    <tr>\n",
       "      <th>2</th>\n",
       "      <td>3</td>\n",
       "      <td>Femenino</td>\n",
       "      <td>37</td>\n",
       "      <td>838328</td>\n",
       "      <td>Departamento</td>\n",
       "      <td>Casado</td>\n",
       "      <td>3</td>\n",
       "      <td>776</td>\n",
       "      <td>Empresario</td>\n",
       "      <td>Universidad</td>\n",
       "      <td>2022-03-18</td>\n",
       "      <td>Hogar</td>\n",
       "      <td>6751</td>\n",
       "      <td>2022-07-31</td>\n",
       "      <td>3128</td>\n",
       "    </tr>\n",
       "    <tr>\n",
       "      <th>3</th>\n",
       "      <td>4</td>\n",
       "      <td>Masculino</td>\n",
       "      <td>25</td>\n",
       "      <td>459616</td>\n",
       "      <td>Casa</td>\n",
       "      <td>Soltero</td>\n",
       "      <td>4</td>\n",
       "      <td>821</td>\n",
       "      <td>Independiente</td>\n",
       "      <td>Universidad</td>\n",
       "      <td>2022-11-14</td>\n",
       "      <td>Hogar</td>\n",
       "      <td>5448</td>\n",
       "      <td>2022-07-29</td>\n",
       "      <td>1493</td>\n",
       "    </tr>\n",
       "    <tr>\n",
       "      <th>4</th>\n",
       "      <td>5</td>\n",
       "      <td>Masculino</td>\n",
       "      <td>41</td>\n",
       "      <td>678250</td>\n",
       "      <td>Casa</td>\n",
       "      <td>Casado</td>\n",
       "      <td>4</td>\n",
       "      <td>580</td>\n",
       "      <td>Empresario</td>\n",
       "      <td>Universidad</td>\n",
       "      <td>2023-03-02</td>\n",
       "      <td>Vida</td>\n",
       "      <td>5625</td>\n",
       "      <td>2022-07-08</td>\n",
       "      <td>1907</td>\n",
       "    </tr>\n",
       "  </tbody>\n",
       "</table>\n",
       "</div>"
      ],
      "text/plain": [
       "   ID del cliente       Sexo  Edad  Ingresos Tipo de hogar Estado civil  \\\n",
       "0               1   Femenino    28    558900  Departamento        Viudo   \n",
       "1               2   Femenino    18    212925  Departamento        Viudo   \n",
       "2               3   Femenino    37    838328  Departamento       Casado   \n",
       "3               4  Masculino    25    459616          Casa      Soltero   \n",
       "4               5  Masculino    41    678250          Casa       Casado   \n",
       "\n",
       "   Número de hijos  Puntuación de crédito Tipo de trabajo     Educación  \\\n",
       "0                3                    556      Empresario  Preparatoria   \n",
       "1                1                    330        Empleado      Posgrado   \n",
       "2                3                    776      Empresario   Universidad   \n",
       "3                4                    821   Independiente   Universidad   \n",
       "4                4                    580      Empresario   Universidad   \n",
       "\n",
       "  Fecha de inicio de la póliza Tipo de seguro  Monto del seguro  \\\n",
       "0                   2022-03-28           Vida              1806   \n",
       "1                   2022-09-15           Vida              1371   \n",
       "2                   2022-03-18          Hogar              6751   \n",
       "3                   2022-11-14          Hogar              5448   \n",
       "4                   2023-03-02           Vida              5625   \n",
       "\n",
       "  Fecha del reclamo  Monto del reclamo  \n",
       "0        2022-11-14                558  \n",
       "1        2022-04-25                922  \n",
       "2        2022-07-31               3128  \n",
       "3        2022-07-29               1493  \n",
       "4        2022-07-08               1907  "
      ]
     },
     "execution_count": 18,
     "metadata": {},
     "output_type": "execute_result"
    }
   ],
   "source": [
    "# Mostrar los 5 primeros registros\n",
    "df.head(5)"
   ]
  },
  {
   "cell_type": "markdown",
   "id": "1687c0eb",
   "metadata": {},
   "source": [
    "## Estudiar las dimensiones del dataset"
   ]
  },
  {
   "cell_type": "code",
   "execution_count": 20,
   "id": "14883294",
   "metadata": {},
   "outputs": [
    {
     "data": {
      "text/plain": [
       "(3000, 15)"
      ]
     },
     "execution_count": 20,
     "metadata": {},
     "output_type": "execute_result"
    }
   ],
   "source": [
    "df.shape"
   ]
  },
  {
   "cell_type": "markdown",
   "id": "3de815bb",
   "metadata": {},
   "source": [
    "Se tienen 3000 filas y 15 columnas"
   ]
  },
  {
   "cell_type": "code",
   "execution_count": 21,
   "id": "579326d9",
   "metadata": {},
   "outputs": [
    {
     "data": {
      "text/plain": [
       "45000"
      ]
     },
     "execution_count": 21,
     "metadata": {},
     "output_type": "execute_result"
    }
   ],
   "source": [
    "df.size"
   ]
  },
  {
   "cell_type": "code",
   "execution_count": 24,
   "id": "071d07b2",
   "metadata": {},
   "outputs": [
    {
     "data": {
      "text/plain": [
       "1       1\n",
       "2004    1\n",
       "1995    1\n",
       "1996    1\n",
       "1997    1\n",
       "       ..\n",
       "1003    1\n",
       "1004    1\n",
       "1005    1\n",
       "1006    1\n",
       "3000    1\n",
       "Name: ID del cliente, Length: 3000, dtype: int64"
      ]
     },
     "execution_count": 24,
     "metadata": {},
     "output_type": "execute_result"
    }
   ],
   "source": [
    "df['ID del cliente'].value_counts()"
   ]
  },
  {
   "cell_type": "markdown",
   "id": "97feb87b",
   "metadata": {},
   "source": [
    "El ID correspondiente al análisis es el ID del cliente, se aprecia que cada ID es único por lo que **cada fila corresponde a un único cliente o reclamo histórico.**"
   ]
  },
  {
   "cell_type": "markdown",
   "id": "eaa29c7f",
   "metadata": {},
   "source": [
    "## Evaluar el tipo de problema"
   ]
  },
  {
   "cell_type": "markdown",
   "id": "01517379",
   "metadata": {},
   "source": [
    "Vemos que es un caso de aprendizaje supervisado de clasificación para predecir si un cliente presentará un reclamo de seguro en el próximo año."
   ]
  },
  {
   "cell_type": "code",
   "execution_count": 28,
   "id": "7031c49c",
   "metadata": {},
   "outputs": [
    {
     "data": {
      "text/html": [
       "<div>\n",
       "<style scoped>\n",
       "    .dataframe tbody tr th:only-of-type {\n",
       "        vertical-align: middle;\n",
       "    }\n",
       "\n",
       "    .dataframe tbody tr th {\n",
       "        vertical-align: top;\n",
       "    }\n",
       "\n",
       "    .dataframe thead th {\n",
       "        text-align: right;\n",
       "    }\n",
       "</style>\n",
       "<table border=\"1\" class=\"dataframe\">\n",
       "  <thead>\n",
       "    <tr style=\"text-align: right;\">\n",
       "      <th></th>\n",
       "      <th>ID del cliente</th>\n",
       "      <th>Sexo</th>\n",
       "      <th>Edad</th>\n",
       "      <th>Ingresos</th>\n",
       "      <th>Tipo de hogar</th>\n",
       "      <th>Estado civil</th>\n",
       "      <th>Número de hijos</th>\n",
       "      <th>Puntuación de crédito</th>\n",
       "      <th>Tipo de trabajo</th>\n",
       "      <th>Educación</th>\n",
       "      <th>Fecha de inicio de la póliza</th>\n",
       "      <th>Tipo de seguro</th>\n",
       "      <th>Monto del seguro</th>\n",
       "      <th>Fecha del reclamo</th>\n",
       "      <th>Monto del reclamo</th>\n",
       "    </tr>\n",
       "  </thead>\n",
       "  <tbody>\n",
       "    <tr>\n",
       "      <th>0</th>\n",
       "      <td>1</td>\n",
       "      <td>Femenino</td>\n",
       "      <td>28</td>\n",
       "      <td>558900</td>\n",
       "      <td>Departamento</td>\n",
       "      <td>Viudo</td>\n",
       "      <td>3</td>\n",
       "      <td>556</td>\n",
       "      <td>Empresario</td>\n",
       "      <td>Preparatoria</td>\n",
       "      <td>2022-03-28</td>\n",
       "      <td>Vida</td>\n",
       "      <td>1806</td>\n",
       "      <td>2022-11-14</td>\n",
       "      <td>558</td>\n",
       "    </tr>\n",
       "    <tr>\n",
       "      <th>1</th>\n",
       "      <td>2</td>\n",
       "      <td>Femenino</td>\n",
       "      <td>18</td>\n",
       "      <td>212925</td>\n",
       "      <td>Departamento</td>\n",
       "      <td>Viudo</td>\n",
       "      <td>1</td>\n",
       "      <td>330</td>\n",
       "      <td>Empleado</td>\n",
       "      <td>Posgrado</td>\n",
       "      <td>2022-09-15</td>\n",
       "      <td>Vida</td>\n",
       "      <td>1371</td>\n",
       "      <td>2022-04-25</td>\n",
       "      <td>922</td>\n",
       "    </tr>\n",
       "    <tr>\n",
       "      <th>2</th>\n",
       "      <td>3</td>\n",
       "      <td>Femenino</td>\n",
       "      <td>37</td>\n",
       "      <td>838328</td>\n",
       "      <td>Departamento</td>\n",
       "      <td>Casado</td>\n",
       "      <td>3</td>\n",
       "      <td>776</td>\n",
       "      <td>Empresario</td>\n",
       "      <td>Universidad</td>\n",
       "      <td>2022-03-18</td>\n",
       "      <td>Hogar</td>\n",
       "      <td>6751</td>\n",
       "      <td>2022-07-31</td>\n",
       "      <td>3128</td>\n",
       "    </tr>\n",
       "  </tbody>\n",
       "</table>\n",
       "</div>"
      ],
      "text/plain": [
       "   ID del cliente      Sexo  Edad  Ingresos Tipo de hogar Estado civil  \\\n",
       "0               1  Femenino    28    558900  Departamento        Viudo   \n",
       "1               2  Femenino    18    212925  Departamento        Viudo   \n",
       "2               3  Femenino    37    838328  Departamento       Casado   \n",
       "\n",
       "   Número de hijos  Puntuación de crédito Tipo de trabajo     Educación  \\\n",
       "0                3                    556      Empresario  Preparatoria   \n",
       "1                1                    330        Empleado      Posgrado   \n",
       "2                3                    776      Empresario   Universidad   \n",
       "\n",
       "  Fecha de inicio de la póliza Tipo de seguro  Monto del seguro  \\\n",
       "0                   2022-03-28           Vida              1806   \n",
       "1                   2022-09-15           Vida              1371   \n",
       "2                   2022-03-18          Hogar              6751   \n",
       "\n",
       "  Fecha del reclamo  Monto del reclamo  \n",
       "0        2022-11-14                558  \n",
       "1        2022-04-25                922  \n",
       "2        2022-07-31               3128  "
      ]
     },
     "execution_count": 28,
     "metadata": {},
     "output_type": "execute_result"
    }
   ],
   "source": [
    "df.head(3)"
   ]
  },
  {
   "cell_type": "markdown",
   "id": "d1326cb8",
   "metadata": {},
   "source": [
    "## Variable objetivo"
   ]
  },
  {
   "cell_type": "markdown",
   "id": "34e3d9b1",
   "metadata": {},
   "source": [
    "**Armado del target**"
   ]
  },
  {
   "cell_type": "markdown",
   "id": "0d599e4d",
   "metadata": {},
   "source": [
    "La variable objetivo se construye a partir:\n",
    "- **0**: Si el año de la fecha de reclamo corresponde al año de la  fecha de inicio de la poliza\n",
    "- **1**: Si el año de la fecha de reclamo es uno más a la fecha de inicio de la poliza"
   ]
  },
  {
   "cell_type": "code",
   "execution_count": 41,
   "id": "82794f8e",
   "metadata": {},
   "outputs": [],
   "source": [
    "# Conversión de la fecha para su tratamiento\n",
    "df['Fecha de inicio de la póliza']=pd.to_datetime(df['Fecha de inicio de la póliza'])\n",
    "df['Fecha del reclamo']=pd.to_datetime(df['Fecha del reclamo'])"
   ]
  },
  {
   "cell_type": "markdown",
   "id": "20916901",
   "metadata": {},
   "source": [
    "Se observan algunos casos en los que la **fecha de reclamo** es antes a la **fecha de inicio de la poliza** en este sentido estos casos deben ser atentidos por el negocio, por el momento no serán tomados como parte del análisis. Estos serán mapeados con el valor de **-1**"
   ]
  },
  {
   "cell_type": "code",
   "execution_count": 47,
   "id": "9e272de4",
   "metadata": {},
   "outputs": [
    {
     "data": {
      "text/html": [
       "<div>\n",
       "<style scoped>\n",
       "    .dataframe tbody tr th:only-of-type {\n",
       "        vertical-align: middle;\n",
       "    }\n",
       "\n",
       "    .dataframe tbody tr th {\n",
       "        vertical-align: top;\n",
       "    }\n",
       "\n",
       "    .dataframe thead th {\n",
       "        text-align: right;\n",
       "    }\n",
       "</style>\n",
       "<table border=\"1\" class=\"dataframe\">\n",
       "  <thead>\n",
       "    <tr style=\"text-align: right;\">\n",
       "      <th></th>\n",
       "      <th>ID del cliente</th>\n",
       "      <th>Sexo</th>\n",
       "      <th>Edad</th>\n",
       "      <th>Ingresos</th>\n",
       "      <th>Tipo de hogar</th>\n",
       "      <th>Estado civil</th>\n",
       "      <th>Número de hijos</th>\n",
       "      <th>Puntuación de crédito</th>\n",
       "      <th>Tipo de trabajo</th>\n",
       "      <th>Educación</th>\n",
       "      <th>Fecha de inicio de la póliza</th>\n",
       "      <th>Tipo de seguro</th>\n",
       "      <th>Monto del seguro</th>\n",
       "      <th>Fecha del reclamo</th>\n",
       "      <th>Monto del reclamo</th>\n",
       "      <th>target</th>\n",
       "    </tr>\n",
       "  </thead>\n",
       "  <tbody>\n",
       "    <tr>\n",
       "      <th>4</th>\n",
       "      <td>5</td>\n",
       "      <td>Masculino</td>\n",
       "      <td>41</td>\n",
       "      <td>678250</td>\n",
       "      <td>Casa</td>\n",
       "      <td>Casado</td>\n",
       "      <td>4</td>\n",
       "      <td>580</td>\n",
       "      <td>Empresario</td>\n",
       "      <td>Universidad</td>\n",
       "      <td>2023-03-02</td>\n",
       "      <td>Vida</td>\n",
       "      <td>5625</td>\n",
       "      <td>2022-07-08</td>\n",
       "      <td>1907</td>\n",
       "      <td>-1</td>\n",
       "    </tr>\n",
       "  </tbody>\n",
       "</table>\n",
       "</div>"
      ],
      "text/plain": [
       "   ID del cliente       Sexo  Edad  Ingresos Tipo de hogar Estado civil  \\\n",
       "4               5  Masculino    41    678250          Casa       Casado   \n",
       "\n",
       "   Número de hijos  Puntuación de crédito Tipo de trabajo    Educación  \\\n",
       "4                4                    580      Empresario  Universidad   \n",
       "\n",
       "  Fecha de inicio de la póliza Tipo de seguro  Monto del seguro  \\\n",
       "4                   2023-03-02           Vida              5625   \n",
       "\n",
       "  Fecha del reclamo  Monto del reclamo target  \n",
       "4        2022-07-08               1907     -1  "
      ]
     },
     "execution_count": 47,
     "metadata": {},
     "output_type": "execute_result"
    }
   ],
   "source": [
    "df.loc[df['ID del cliente']==5,:]"
   ]
  },
  {
   "cell_type": "code",
   "execution_count": 43,
   "id": "b4f58c06",
   "metadata": {},
   "outputs": [],
   "source": [
    "# Se agrega la variable target\n",
    "df['target'] = df['Fecha del reclamo'].dt.year - df['Fecha de inicio de la póliza'].dt.year\n",
    "df['target'] = np.where(df['target'] <0, -1, np.where(df['target'] == 1, 1, 0))\n",
    "df['target'] = df['target'].astype('category')"
   ]
  },
  {
   "cell_type": "code",
   "execution_count": 48,
   "id": "566249f9",
   "metadata": {},
   "outputs": [
    {
     "data": {
      "text/plain": [
       "0     2125\n",
       "1      441\n",
       "-1     434\n",
       "Name: target, dtype: int64"
      ]
     },
     "execution_count": 48,
     "metadata": {},
     "output_type": "execute_result"
    }
   ],
   "source": [
    "# Validación\n",
    "df.target.value_counts()"
   ]
  },
  {
   "cell_type": "code",
   "execution_count": 50,
   "id": "ea769f12",
   "metadata": {},
   "outputs": [
    {
     "data": {
      "text/plain": [
       "0     70.833333\n",
       "1     14.700000\n",
       "-1    14.466667\n",
       "Name: target, dtype: float64"
      ]
     },
     "execution_count": 50,
     "metadata": {},
     "output_type": "execute_result"
    }
   ],
   "source": [
    "df.target.value_counts(normalize = True)*100"
   ]
  },
  {
   "cell_type": "markdown",
   "id": "d7747b23",
   "metadata": {},
   "source": [
    "Se observa que se tiene un 14.7% de valores correspondientes al target==1."
   ]
  },
  {
   "cell_type": "code",
   "execution_count": 51,
   "id": "55dd7b4d",
   "metadata": {},
   "outputs": [],
   "source": [
    "#Removar los valores -1\n",
    "df = df[df['target'] != -1]"
   ]
  },
  {
   "cell_type": "code",
   "execution_count": null,
   "id": "520b221c",
   "metadata": {},
   "outputs": [],
   "source": []
  }
 ],
 "metadata": {
  "kernelspec": {
   "display_name": "Python 3 (ipykernel)",
   "language": "python",
   "name": "python3"
  },
  "language_info": {
   "codemirror_mode": {
    "name": "ipython",
    "version": 3
   },
   "file_extension": ".py",
   "mimetype": "text/x-python",
   "name": "python",
   "nbconvert_exporter": "python",
   "pygments_lexer": "ipython3",
   "version": "3.9.13"
  }
 },
 "nbformat": 4,
 "nbformat_minor": 5
}
