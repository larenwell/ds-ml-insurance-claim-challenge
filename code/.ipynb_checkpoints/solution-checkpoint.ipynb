{
 "cells": [
  {
   "cell_type": "markdown",
   "id": "d048c5da",
   "metadata": {},
   "source": [
    "# Data Science Challenge\n",
    "\n",
    "**Objetivo: Desarrollar un script en Python que utilice aprendizaje automático para predecir si un cliente presentará un reclamo de seguro en el próximo año.**\n",
    "\n",
    "Descripción: La compañía aseguradora está interesada en predecir si un cliente presentará un reclamo de seguro en el próximo año para poder tomar medidas preventivas y mejorar la satisfacción del cliente. La compañía ha recopilado datos históricos de clientes y reclamos y quiere utilizarlos para desarrollar un modelo de aprendizaje automático que pueda predecir si un cliente presentará un reclamo de seguro en el próximo año."
   ]
  },
  {
   "cell_type": "markdown",
   "id": "2949b663",
   "metadata": {},
   "source": [
    "## Instalar las dependencias"
   ]
  },
  {
   "cell_type": "code",
   "execution_count": 1,
   "id": "f474b774",
   "metadata": {},
   "outputs": [],
   "source": [
    "#!pip install -r requirements.txt"
   ]
  },
  {
   "cell_type": "code",
   "execution_count": 2,
   "id": "af21f542",
   "metadata": {},
   "outputs": [],
   "source": [
    "#!pip install pycaret"
   ]
  },
  {
   "cell_type": "markdown",
   "id": "7eba1a66",
   "metadata": {},
   "source": [
    "# Entendimiento inicial de los datos"
   ]
  },
  {
   "cell_type": "markdown",
   "id": "56d1f143",
   "metadata": {},
   "source": [
    "## Cargar Librerias"
   ]
  },
  {
   "cell_type": "code",
   "execution_count": 3,
   "id": "68b89bd2",
   "metadata": {},
   "outputs": [],
   "source": [
    "# %matplotlib inline\n",
    "\n",
    "import re\n",
    "import random\n",
    "from collections import Counter\n",
    "\n",
    "import numpy as np\n",
    "import pandas as pd\n",
    "\n",
    "from scipy.stats import kstest\n",
    "\n",
    "import matplotlib.pyplot as plt\n",
    "import seaborn as sns\n",
    "sns.set(style='darkgrid')\n",
    "\n",
    "from sklearn.preprocessing import StandardScaler, MinMaxScaler\n",
    "from sklearn.preprocessing import OrdinalEncoder\n",
    "\n",
    "from sklearn.model_selection import train_test_split\n",
    "from sklearn.model_selection import cross_val_score\n",
    "from sklearn.model_selection import StratifiedKFold\n",
    "from sklearn.model_selection import GridSearchCV\n",
    "from sklearn.model_selection import ParameterGrid\n",
    "\n",
    "from sklearn.neighbors import KNeighborsClassifier\n",
    "from sklearn.tree import DecisionTreeClassifier\n",
    "from sklearn.linear_model import LogisticRegression\n",
    "from sklearn.ensemble import RandomForestClassifier\n",
    "from sklearn.metrics import  roc_curve, auc, silhouette_score, recall_score, precision_score, confusion_matrix, accuracy_score\n",
    "\n",
    "import warnings\n",
    "warnings.filterwarnings(\"ignore\")\n",
    "\n",
    "#from pycaret.classification import *\n",
    "#import shap"
   ]
  },
  {
   "cell_type": "markdown",
   "id": "32fe29b1",
   "metadata": {},
   "source": [
    "## Definición de funciones"
   ]
  },
  {
   "cell_type": "code",
   "execution_count": 4,
   "id": "b2538b6f",
   "metadata": {},
   "outputs": [],
   "source": [
    "def fx_porc_missings(data, only_missings = False):\n",
    "    \"\"\"Calcula los porcentajes de valores vacios en cada variable\"\"\"\n",
    "    \n",
    "    df_vars_missings = pd.concat([pd.DataFrame(data.isnull().sum(), columns = ['n_nulos']),\n",
    "           pd.DataFrame(100*data.isnull().sum()/len(data), columns = ['%Total'])], axis = 1)\n",
    "    if only_missings:\n",
    "        return(df_vars_missings[df_vars_missings[\"n_nulos\"]!=0])\n",
    "    else:\n",
    "        return(df_vars_missings)\n"
   ]
  },
  {
   "cell_type": "markdown",
   "id": "cb8d0107",
   "metadata": {},
   "source": [
    "## Lectura y validación de datos"
   ]
  },
  {
   "cell_type": "code",
   "execution_count": 5,
   "id": "7f5fde06",
   "metadata": {},
   "outputs": [],
   "source": [
    "# Ruta donde se encuentra alojado el dataset del caso\n",
    "url_data='../data/'"
   ]
  },
  {
   "cell_type": "code",
   "execution_count": 6,
   "id": "f2c763a6",
   "metadata": {},
   "outputs": [],
   "source": [
    "# Lectura y carga de la data\n",
    "df=pd.read_csv(url_data+'datos_de_prueba.csv', na_values='?', low_memory=False)"
   ]
  },
  {
   "cell_type": "code",
   "execution_count": 7,
   "id": "d9c7eb43",
   "metadata": {},
   "outputs": [
    {
     "name": "stdout",
     "output_type": "stream",
     "text": [
      "<class 'pandas.core.frame.DataFrame'>\n",
      "RangeIndex: 3000 entries, 0 to 2999\n",
      "Data columns (total 15 columns):\n",
      " #   Column                        Non-Null Count  Dtype \n",
      "---  ------                        --------------  ----- \n",
      " 0   ID del cliente                3000 non-null   int64 \n",
      " 1   Sexo                          3000 non-null   object\n",
      " 2   Edad                          3000 non-null   int64 \n",
      " 3   Ingresos                      3000 non-null   int64 \n",
      " 4   Tipo de hogar                 3000 non-null   object\n",
      " 5   Estado civil                  3000 non-null   object\n",
      " 6   Número de hijos               3000 non-null   int64 \n",
      " 7   Puntuación de crédito         3000 non-null   int64 \n",
      " 8   Tipo de trabajo               3000 non-null   object\n",
      " 9   Educación                     3000 non-null   object\n",
      " 10  Fecha de inicio de la póliza  3000 non-null   object\n",
      " 11  Tipo de seguro                3000 non-null   object\n",
      " 12  Monto del seguro              3000 non-null   int64 \n",
      " 13  Fecha del reclamo             3000 non-null   object\n",
      " 14  Monto del reclamo             3000 non-null   int64 \n",
      "dtypes: int64(7), object(8)\n",
      "memory usage: 351.7+ KB\n"
     ]
    }
   ],
   "source": [
    "# Validar la correcta lectura del dataframe\n",
    "df.info()"
   ]
  },
  {
   "cell_type": "markdown",
   "id": "357b8de5",
   "metadata": {},
   "source": [
    "Se observa que se tienen 3000 filas y 15 columnas de los tipos int64(7), object(8). Se tiene que modificar el tipo de dato de las variables: ID de cliente, Fecha de inicio de la póliza, Fecha del reclamo para su posterior tratamiento.\n",
    "\n",
    "**No se tienen valores vacios.**"
   ]
  },
  {
   "cell_type": "code",
   "execution_count": 8,
   "id": "6c32d59d",
   "metadata": {},
   "outputs": [
    {
     "data": {
      "text/html": [
       "<div>\n",
       "<style scoped>\n",
       "    .dataframe tbody tr th:only-of-type {\n",
       "        vertical-align: middle;\n",
       "    }\n",
       "\n",
       "    .dataframe tbody tr th {\n",
       "        vertical-align: top;\n",
       "    }\n",
       "\n",
       "    .dataframe thead th {\n",
       "        text-align: right;\n",
       "    }\n",
       "</style>\n",
       "<table border=\"1\" class=\"dataframe\">\n",
       "  <thead>\n",
       "    <tr style=\"text-align: right;\">\n",
       "      <th></th>\n",
       "      <th>ID del cliente</th>\n",
       "      <th>Sexo</th>\n",
       "      <th>Edad</th>\n",
       "      <th>Ingresos</th>\n",
       "      <th>Tipo de hogar</th>\n",
       "      <th>Estado civil</th>\n",
       "      <th>Número de hijos</th>\n",
       "      <th>Puntuación de crédito</th>\n",
       "      <th>Tipo de trabajo</th>\n",
       "      <th>Educación</th>\n",
       "      <th>Fecha de inicio de la póliza</th>\n",
       "      <th>Tipo de seguro</th>\n",
       "      <th>Monto del seguro</th>\n",
       "      <th>Fecha del reclamo</th>\n",
       "      <th>Monto del reclamo</th>\n",
       "    </tr>\n",
       "  </thead>\n",
       "  <tbody>\n",
       "    <tr>\n",
       "      <th>0</th>\n",
       "      <td>1</td>\n",
       "      <td>Femenino</td>\n",
       "      <td>28</td>\n",
       "      <td>558900</td>\n",
       "      <td>Departamento</td>\n",
       "      <td>Viudo</td>\n",
       "      <td>3</td>\n",
       "      <td>556</td>\n",
       "      <td>Empresario</td>\n",
       "      <td>Preparatoria</td>\n",
       "      <td>2022-03-28</td>\n",
       "      <td>Vida</td>\n",
       "      <td>1806</td>\n",
       "      <td>2022-11-14</td>\n",
       "      <td>558</td>\n",
       "    </tr>\n",
       "    <tr>\n",
       "      <th>1</th>\n",
       "      <td>2</td>\n",
       "      <td>Femenino</td>\n",
       "      <td>18</td>\n",
       "      <td>212925</td>\n",
       "      <td>Departamento</td>\n",
       "      <td>Viudo</td>\n",
       "      <td>1</td>\n",
       "      <td>330</td>\n",
       "      <td>Empleado</td>\n",
       "      <td>Posgrado</td>\n",
       "      <td>2022-09-15</td>\n",
       "      <td>Vida</td>\n",
       "      <td>1371</td>\n",
       "      <td>2022-04-25</td>\n",
       "      <td>922</td>\n",
       "    </tr>\n",
       "    <tr>\n",
       "      <th>2</th>\n",
       "      <td>3</td>\n",
       "      <td>Femenino</td>\n",
       "      <td>37</td>\n",
       "      <td>838328</td>\n",
       "      <td>Departamento</td>\n",
       "      <td>Casado</td>\n",
       "      <td>3</td>\n",
       "      <td>776</td>\n",
       "      <td>Empresario</td>\n",
       "      <td>Universidad</td>\n",
       "      <td>2022-03-18</td>\n",
       "      <td>Hogar</td>\n",
       "      <td>6751</td>\n",
       "      <td>2022-07-31</td>\n",
       "      <td>3128</td>\n",
       "    </tr>\n",
       "    <tr>\n",
       "      <th>3</th>\n",
       "      <td>4</td>\n",
       "      <td>Masculino</td>\n",
       "      <td>25</td>\n",
       "      <td>459616</td>\n",
       "      <td>Casa</td>\n",
       "      <td>Soltero</td>\n",
       "      <td>4</td>\n",
       "      <td>821</td>\n",
       "      <td>Independiente</td>\n",
       "      <td>Universidad</td>\n",
       "      <td>2022-11-14</td>\n",
       "      <td>Hogar</td>\n",
       "      <td>5448</td>\n",
       "      <td>2022-07-29</td>\n",
       "      <td>1493</td>\n",
       "    </tr>\n",
       "    <tr>\n",
       "      <th>4</th>\n",
       "      <td>5</td>\n",
       "      <td>Masculino</td>\n",
       "      <td>41</td>\n",
       "      <td>678250</td>\n",
       "      <td>Casa</td>\n",
       "      <td>Casado</td>\n",
       "      <td>4</td>\n",
       "      <td>580</td>\n",
       "      <td>Empresario</td>\n",
       "      <td>Universidad</td>\n",
       "      <td>2023-03-02</td>\n",
       "      <td>Vida</td>\n",
       "      <td>5625</td>\n",
       "      <td>2022-07-08</td>\n",
       "      <td>1907</td>\n",
       "    </tr>\n",
       "  </tbody>\n",
       "</table>\n",
       "</div>"
      ],
      "text/plain": [
       "   ID del cliente       Sexo  Edad  Ingresos Tipo de hogar Estado civil  \\\n",
       "0               1   Femenino    28    558900  Departamento        Viudo   \n",
       "1               2   Femenino    18    212925  Departamento        Viudo   \n",
       "2               3   Femenino    37    838328  Departamento       Casado   \n",
       "3               4  Masculino    25    459616          Casa      Soltero   \n",
       "4               5  Masculino    41    678250          Casa       Casado   \n",
       "\n",
       "   Número de hijos  Puntuación de crédito Tipo de trabajo     Educación  \\\n",
       "0                3                    556      Empresario  Preparatoria   \n",
       "1                1                    330        Empleado      Posgrado   \n",
       "2                3                    776      Empresario   Universidad   \n",
       "3                4                    821   Independiente   Universidad   \n",
       "4                4                    580      Empresario   Universidad   \n",
       "\n",
       "  Fecha de inicio de la póliza Tipo de seguro  Monto del seguro  \\\n",
       "0                   2022-03-28           Vida              1806   \n",
       "1                   2022-09-15           Vida              1371   \n",
       "2                   2022-03-18          Hogar              6751   \n",
       "3                   2022-11-14          Hogar              5448   \n",
       "4                   2023-03-02           Vida              5625   \n",
       "\n",
       "  Fecha del reclamo  Monto del reclamo  \n",
       "0        2022-11-14                558  \n",
       "1        2022-04-25                922  \n",
       "2        2022-07-31               3128  \n",
       "3        2022-07-29               1493  \n",
       "4        2022-07-08               1907  "
      ]
     },
     "execution_count": 8,
     "metadata": {},
     "output_type": "execute_result"
    }
   ],
   "source": [
    "# Mostrar los 5 primeros registros\n",
    "df.head(5)"
   ]
  },
  {
   "cell_type": "markdown",
   "id": "cd7a6e15",
   "metadata": {},
   "source": [
    "## Estudiar las dimensiones del dataset"
   ]
  },
  {
   "cell_type": "code",
   "execution_count": 9,
   "id": "5b2f8183",
   "metadata": {},
   "outputs": [
    {
     "data": {
      "text/plain": [
       "(3000, 15)"
      ]
     },
     "execution_count": 9,
     "metadata": {},
     "output_type": "execute_result"
    }
   ],
   "source": [
    "df.shape"
   ]
  },
  {
   "cell_type": "markdown",
   "id": "1d0370b6",
   "metadata": {},
   "source": [
    "Se tienen 3000 filas y 15 columnas"
   ]
  },
  {
   "cell_type": "code",
   "execution_count": 10,
   "id": "a58e73ce",
   "metadata": {},
   "outputs": [
    {
     "data": {
      "text/plain": [
       "45000"
      ]
     },
     "execution_count": 10,
     "metadata": {},
     "output_type": "execute_result"
    }
   ],
   "source": [
    "df.size"
   ]
  },
  {
   "cell_type": "code",
   "execution_count": 11,
   "id": "c5ba2520",
   "metadata": {},
   "outputs": [
    {
     "data": {
      "text/plain": [
       "1       1\n",
       "2004    1\n",
       "1995    1\n",
       "1996    1\n",
       "1997    1\n",
       "       ..\n",
       "1003    1\n",
       "1004    1\n",
       "1005    1\n",
       "1006    1\n",
       "3000    1\n",
       "Name: ID del cliente, Length: 3000, dtype: int64"
      ]
     },
     "execution_count": 11,
     "metadata": {},
     "output_type": "execute_result"
    }
   ],
   "source": [
    "df['ID del cliente'].value_counts()"
   ]
  },
  {
   "cell_type": "markdown",
   "id": "64e734d9",
   "metadata": {},
   "source": [
    "El ID correspondiente al análisis es el ID del cliente, se aprecia que cada ID es único por lo que **cada fila corresponde a un único cliente o reclamo histórico.**"
   ]
  },
  {
   "cell_type": "markdown",
   "id": "e012de1e",
   "metadata": {},
   "source": [
    "## Evaluar el tipo de problema"
   ]
  },
  {
   "cell_type": "markdown",
   "id": "2ac26dbd",
   "metadata": {},
   "source": [
    "Vemos que es un caso de aprendizaje supervisado de clasificación para predecir si un cliente presentará un reclamo de seguro en el próximo año."
   ]
  },
  {
   "cell_type": "code",
   "execution_count": 12,
   "id": "4ea35be2",
   "metadata": {},
   "outputs": [
    {
     "data": {
      "text/html": [
       "<div>\n",
       "<style scoped>\n",
       "    .dataframe tbody tr th:only-of-type {\n",
       "        vertical-align: middle;\n",
       "    }\n",
       "\n",
       "    .dataframe tbody tr th {\n",
       "        vertical-align: top;\n",
       "    }\n",
       "\n",
       "    .dataframe thead th {\n",
       "        text-align: right;\n",
       "    }\n",
       "</style>\n",
       "<table border=\"1\" class=\"dataframe\">\n",
       "  <thead>\n",
       "    <tr style=\"text-align: right;\">\n",
       "      <th></th>\n",
       "      <th>ID del cliente</th>\n",
       "      <th>Sexo</th>\n",
       "      <th>Edad</th>\n",
       "      <th>Ingresos</th>\n",
       "      <th>Tipo de hogar</th>\n",
       "      <th>Estado civil</th>\n",
       "      <th>Número de hijos</th>\n",
       "      <th>Puntuación de crédito</th>\n",
       "      <th>Tipo de trabajo</th>\n",
       "      <th>Educación</th>\n",
       "      <th>Fecha de inicio de la póliza</th>\n",
       "      <th>Tipo de seguro</th>\n",
       "      <th>Monto del seguro</th>\n",
       "      <th>Fecha del reclamo</th>\n",
       "      <th>Monto del reclamo</th>\n",
       "    </tr>\n",
       "  </thead>\n",
       "  <tbody>\n",
       "    <tr>\n",
       "      <th>0</th>\n",
       "      <td>1</td>\n",
       "      <td>Femenino</td>\n",
       "      <td>28</td>\n",
       "      <td>558900</td>\n",
       "      <td>Departamento</td>\n",
       "      <td>Viudo</td>\n",
       "      <td>3</td>\n",
       "      <td>556</td>\n",
       "      <td>Empresario</td>\n",
       "      <td>Preparatoria</td>\n",
       "      <td>2022-03-28</td>\n",
       "      <td>Vida</td>\n",
       "      <td>1806</td>\n",
       "      <td>2022-11-14</td>\n",
       "      <td>558</td>\n",
       "    </tr>\n",
       "    <tr>\n",
       "      <th>1</th>\n",
       "      <td>2</td>\n",
       "      <td>Femenino</td>\n",
       "      <td>18</td>\n",
       "      <td>212925</td>\n",
       "      <td>Departamento</td>\n",
       "      <td>Viudo</td>\n",
       "      <td>1</td>\n",
       "      <td>330</td>\n",
       "      <td>Empleado</td>\n",
       "      <td>Posgrado</td>\n",
       "      <td>2022-09-15</td>\n",
       "      <td>Vida</td>\n",
       "      <td>1371</td>\n",
       "      <td>2022-04-25</td>\n",
       "      <td>922</td>\n",
       "    </tr>\n",
       "    <tr>\n",
       "      <th>2</th>\n",
       "      <td>3</td>\n",
       "      <td>Femenino</td>\n",
       "      <td>37</td>\n",
       "      <td>838328</td>\n",
       "      <td>Departamento</td>\n",
       "      <td>Casado</td>\n",
       "      <td>3</td>\n",
       "      <td>776</td>\n",
       "      <td>Empresario</td>\n",
       "      <td>Universidad</td>\n",
       "      <td>2022-03-18</td>\n",
       "      <td>Hogar</td>\n",
       "      <td>6751</td>\n",
       "      <td>2022-07-31</td>\n",
       "      <td>3128</td>\n",
       "    </tr>\n",
       "  </tbody>\n",
       "</table>\n",
       "</div>"
      ],
      "text/plain": [
       "   ID del cliente      Sexo  Edad  Ingresos Tipo de hogar Estado civil  \\\n",
       "0               1  Femenino    28    558900  Departamento        Viudo   \n",
       "1               2  Femenino    18    212925  Departamento        Viudo   \n",
       "2               3  Femenino    37    838328  Departamento       Casado   \n",
       "\n",
       "   Número de hijos  Puntuación de crédito Tipo de trabajo     Educación  \\\n",
       "0                3                    556      Empresario  Preparatoria   \n",
       "1                1                    330        Empleado      Posgrado   \n",
       "2                3                    776      Empresario   Universidad   \n",
       "\n",
       "  Fecha de inicio de la póliza Tipo de seguro  Monto del seguro  \\\n",
       "0                   2022-03-28           Vida              1806   \n",
       "1                   2022-09-15           Vida              1371   \n",
       "2                   2022-03-18          Hogar              6751   \n",
       "\n",
       "  Fecha del reclamo  Monto del reclamo  \n",
       "0        2022-11-14                558  \n",
       "1        2022-04-25                922  \n",
       "2        2022-07-31               3128  "
      ]
     },
     "execution_count": 12,
     "metadata": {},
     "output_type": "execute_result"
    }
   ],
   "source": [
    "df.head(3)"
   ]
  },
  {
   "cell_type": "markdown",
   "id": "9891ff89",
   "metadata": {},
   "source": [
    "## Variable objetivo"
   ]
  },
  {
   "cell_type": "markdown",
   "id": "dabd7583",
   "metadata": {},
   "source": [
    "**Armado del target**"
   ]
  },
  {
   "cell_type": "markdown",
   "id": "5c9ed75c",
   "metadata": {},
   "source": [
    "La variable objetivo se construye a partir:\n",
    "- **0**: Si el año de la fecha de reclamo corresponde al año de la  fecha de inicio de la poliza\n",
    "- **1**: Si el año de la fecha de reclamo es uno más a la fecha de inicio de la poliza"
   ]
  },
  {
   "cell_type": "code",
   "execution_count": 13,
   "id": "44e77407",
   "metadata": {},
   "outputs": [],
   "source": [
    "# Conversión de la fecha para su tratamiento\n",
    "df['Fecha de inicio de la póliza']=pd.to_datetime(df['Fecha de inicio de la póliza'])\n",
    "df['Fecha del reclamo']=pd.to_datetime(df['Fecha del reclamo'])"
   ]
  },
  {
   "cell_type": "markdown",
   "id": "bec2a779",
   "metadata": {},
   "source": [
    "Se observan algunos casos en los que la **fecha de reclamo** es antes a la **fecha de inicio de la poliza** en este sentido estos casos deben ser atentidos por el negocio, por el momento no serán tomados como parte del análisis. Estos serán mapeados con el valor de **-1**"
   ]
  },
  {
   "cell_type": "code",
   "execution_count": 14,
   "id": "c7f66084",
   "metadata": {},
   "outputs": [
    {
     "data": {
      "text/html": [
       "<div>\n",
       "<style scoped>\n",
       "    .dataframe tbody tr th:only-of-type {\n",
       "        vertical-align: middle;\n",
       "    }\n",
       "\n",
       "    .dataframe tbody tr th {\n",
       "        vertical-align: top;\n",
       "    }\n",
       "\n",
       "    .dataframe thead th {\n",
       "        text-align: right;\n",
       "    }\n",
       "</style>\n",
       "<table border=\"1\" class=\"dataframe\">\n",
       "  <thead>\n",
       "    <tr style=\"text-align: right;\">\n",
       "      <th></th>\n",
       "      <th>ID del cliente</th>\n",
       "      <th>Sexo</th>\n",
       "      <th>Edad</th>\n",
       "      <th>Ingresos</th>\n",
       "      <th>Tipo de hogar</th>\n",
       "      <th>Estado civil</th>\n",
       "      <th>Número de hijos</th>\n",
       "      <th>Puntuación de crédito</th>\n",
       "      <th>Tipo de trabajo</th>\n",
       "      <th>Educación</th>\n",
       "      <th>Fecha de inicio de la póliza</th>\n",
       "      <th>Tipo de seguro</th>\n",
       "      <th>Monto del seguro</th>\n",
       "      <th>Fecha del reclamo</th>\n",
       "      <th>Monto del reclamo</th>\n",
       "    </tr>\n",
       "  </thead>\n",
       "  <tbody>\n",
       "    <tr>\n",
       "      <th>4</th>\n",
       "      <td>5</td>\n",
       "      <td>Masculino</td>\n",
       "      <td>41</td>\n",
       "      <td>678250</td>\n",
       "      <td>Casa</td>\n",
       "      <td>Casado</td>\n",
       "      <td>4</td>\n",
       "      <td>580</td>\n",
       "      <td>Empresario</td>\n",
       "      <td>Universidad</td>\n",
       "      <td>2023-03-02</td>\n",
       "      <td>Vida</td>\n",
       "      <td>5625</td>\n",
       "      <td>2022-07-08</td>\n",
       "      <td>1907</td>\n",
       "    </tr>\n",
       "  </tbody>\n",
       "</table>\n",
       "</div>"
      ],
      "text/plain": [
       "   ID del cliente       Sexo  Edad  Ingresos Tipo de hogar Estado civil  \\\n",
       "4               5  Masculino    41    678250          Casa       Casado   \n",
       "\n",
       "   Número de hijos  Puntuación de crédito Tipo de trabajo    Educación  \\\n",
       "4                4                    580      Empresario  Universidad   \n",
       "\n",
       "  Fecha de inicio de la póliza Tipo de seguro  Monto del seguro  \\\n",
       "4                   2023-03-02           Vida              5625   \n",
       "\n",
       "  Fecha del reclamo  Monto del reclamo  \n",
       "4        2022-07-08               1907  "
      ]
     },
     "execution_count": 14,
     "metadata": {},
     "output_type": "execute_result"
    }
   ],
   "source": [
    "df.loc[df['ID del cliente']==5,:]"
   ]
  },
  {
   "cell_type": "code",
   "execution_count": 15,
   "id": "6725ad40",
   "metadata": {},
   "outputs": [],
   "source": [
    "# Se agrega la variable target\n",
    "df['target'] = df['Fecha del reclamo'].dt.year - df['Fecha de inicio de la póliza'].dt.year\n",
    "df['target'] = np.where(df['target'] <0, -1, np.where(df['target'] == 1, 1, 0))\n",
    "#df['target'] = df['target'].astype('category')"
   ]
  },
  {
   "cell_type": "code",
   "execution_count": 16,
   "id": "cafc8937",
   "metadata": {},
   "outputs": [
    {
     "data": {
      "text/plain": [
       " 0    2125\n",
       " 1     441\n",
       "-1     434\n",
       "Name: target, dtype: int64"
      ]
     },
     "execution_count": 16,
     "metadata": {},
     "output_type": "execute_result"
    }
   ],
   "source": [
    "# Validación\n",
    "df.target.value_counts()"
   ]
  },
  {
   "cell_type": "code",
   "execution_count": 17,
   "id": "85e2dcbc",
   "metadata": {},
   "outputs": [
    {
     "data": {
      "text/plain": [
       " 0    70.833333\n",
       " 1    14.700000\n",
       "-1    14.466667\n",
       "Name: target, dtype: float64"
      ]
     },
     "execution_count": 17,
     "metadata": {},
     "output_type": "execute_result"
    }
   ],
   "source": [
    "df.target.value_counts(normalize = True)*100"
   ]
  },
  {
   "cell_type": "markdown",
   "id": "ef0ca404",
   "metadata": {},
   "source": [
    "Se observa que se tiene un 14.7% de valores correspondientes al target de análisis **(target de valor 1)**"
   ]
  },
  {
   "cell_type": "code",
   "execution_count": 18,
   "id": "708c459a",
   "metadata": {},
   "outputs": [],
   "source": [
    "#Removar los valores -1\n",
    "df = df[df['target'] != -1]"
   ]
  },
  {
   "cell_type": "markdown",
   "id": "ab06f95d",
   "metadata": {},
   "source": [
    "# Data Wrangling"
   ]
  },
  {
   "cell_type": "markdown",
   "id": "6fcba10a",
   "metadata": {},
   "source": [
    "## Registros repetidos"
   ]
  },
  {
   "cell_type": "code",
   "execution_count": 19,
   "id": "5b921c7b",
   "metadata": {},
   "outputs": [
    {
     "data": {
      "text/plain": [
       "(2566, 16)"
      ]
     },
     "execution_count": 19,
     "metadata": {},
     "output_type": "execute_result"
    }
   ],
   "source": [
    "df.shape"
   ]
  },
  {
   "cell_type": "code",
   "execution_count": 20,
   "id": "203922d7",
   "metadata": {},
   "outputs": [],
   "source": [
    "df.drop_duplicates(inplace=True)"
   ]
  },
  {
   "cell_type": "code",
   "execution_count": 21,
   "id": "5a4580d5",
   "metadata": {},
   "outputs": [
    {
     "data": {
      "text/plain": [
       "(2566, 16)"
      ]
     },
     "execution_count": 21,
     "metadata": {},
     "output_type": "execute_result"
    }
   ],
   "source": [
    "df.shape"
   ]
  },
  {
   "cell_type": "markdown",
   "id": "fc7cd278",
   "metadata": {},
   "source": [
    "Se observa que no se tienen registros repetidos"
   ]
  },
  {
   "cell_type": "markdown",
   "id": "a6344221",
   "metadata": {},
   "source": [
    "## Renombramiento de variables"
   ]
  },
  {
   "cell_type": "markdown",
   "id": "1729dce0",
   "metadata": {},
   "source": [
    "Se realiza el renombramiento de variables para un mejor entendimiento y tratamiento "
   ]
  },
  {
   "cell_type": "code",
   "execution_count": 22,
   "id": "4c800063",
   "metadata": {},
   "outputs": [
    {
     "data": {
      "text/plain": [
       "Index(['ID del cliente', 'Sexo', 'Edad', 'Ingresos', 'Tipo de hogar',\n",
       "       'Estado civil', 'Número de hijos', 'Puntuación de crédito',\n",
       "       'Tipo de trabajo', 'Educación', 'Fecha de inicio de la póliza',\n",
       "       'Tipo de seguro', 'Monto del seguro', 'Fecha del reclamo',\n",
       "       'Monto del reclamo', 'target'],\n",
       "      dtype='object')"
      ]
     },
     "execution_count": 22,
     "metadata": {},
     "output_type": "execute_result"
    }
   ],
   "source": [
    "df.columns"
   ]
  },
  {
   "cell_type": "code",
   "execution_count": 23,
   "id": "6a4bdc4c",
   "metadata": {},
   "outputs": [],
   "source": [
    "df.rename(columns={\n",
    "   'ID del cliente':'idCliente',\n",
    "   'Sexo':'sexo',\n",
    "   'Edad': 'edad',\n",
    "   'Ingresos': 'ingreso',\n",
    "   'Tipo de hogar': 'tipoHogar',\n",
    "   'Estado civil':'estadoCivil',\n",
    "   'Número de hijos':'numHijos',\n",
    "   'Puntuación de crédito': 'puntajeCredito',\n",
    "   'Tipo de trabajo': 'tipoTrabajo',\n",
    "   'Educación': 'educacion',\n",
    "   'Fecha de inicio de la póliza': 'fecInicioPoliza',\n",
    "   'Tipo de seguro': 'tipoSeguro',\n",
    "   'Monto del seguro': 'montoSeguro',\n",
    "   'Fecha del reclamo':'fechaReclamo',\n",
    "   'Monto del reclamo': 'montoReclamo'},inplace=True)"
   ]
  },
  {
   "cell_type": "markdown",
   "id": "60d89552",
   "metadata": {},
   "source": [
    "## Remover nulos"
   ]
  },
  {
   "cell_type": "code",
   "execution_count": 24,
   "id": "c308bb36",
   "metadata": {},
   "outputs": [
    {
     "data": {
      "text/html": [
       "<div>\n",
       "<style scoped>\n",
       "    .dataframe tbody tr th:only-of-type {\n",
       "        vertical-align: middle;\n",
       "    }\n",
       "\n",
       "    .dataframe tbody tr th {\n",
       "        vertical-align: top;\n",
       "    }\n",
       "\n",
       "    .dataframe thead th {\n",
       "        text-align: right;\n",
       "    }\n",
       "</style>\n",
       "<table border=\"1\" class=\"dataframe\">\n",
       "  <thead>\n",
       "    <tr style=\"text-align: right;\">\n",
       "      <th></th>\n",
       "      <th>n_nulos</th>\n",
       "      <th>%Total</th>\n",
       "    </tr>\n",
       "  </thead>\n",
       "  <tbody>\n",
       "  </tbody>\n",
       "</table>\n",
       "</div>"
      ],
      "text/plain": [
       "Empty DataFrame\n",
       "Columns: [n_nulos, %Total]\n",
       "Index: []"
      ]
     },
     "execution_count": 24,
     "metadata": {},
     "output_type": "execute_result"
    }
   ],
   "source": [
    "fx_porc_missings(df, only_missings=True)"
   ]
  },
  {
   "cell_type": "markdown",
   "id": "31b74f7e",
   "metadata": {},
   "source": [
    "Se observa que no se tienen valores nulos"
   ]
  },
  {
   "cell_type": "markdown",
   "id": "35628d25",
   "metadata": {},
   "source": [
    "# Feature Engineering"
   ]
  },
  {
   "cell_type": "markdown",
   "id": "de6a4c8a",
   "metadata": {},
   "source": [
    "Se crean algunas variables relacionadas con el **mes** y **dia de la semana** de la fecha de reclamo. Se obtiene de esta fecha por ser de interés."
   ]
  },
  {
   "cell_type": "code",
   "execution_count": 25,
   "id": "ea63bcb7",
   "metadata": {
    "scrolled": true
   },
   "outputs": [],
   "source": [
    "# Obtener el mes y dia de semana\n",
    "df['mesFechaReclamo']=df['fechaReclamo'].dt.month\n",
    "df['diaSemFechaReclamo']=df['fechaReclamo'].dt.weekday"
   ]
  },
  {
   "cell_type": "code",
   "execution_count": 26,
   "id": "12c1ef1e",
   "metadata": {},
   "outputs": [],
   "source": [
    "df['mesFechaReclamo'] = df['mesFechaReclamo'].astype('category')\n",
    "df['diaSemFechaReclamo'] = df['diaSemFechaReclamo'].astype('category')"
   ]
  },
  {
   "cell_type": "code",
   "execution_count": 27,
   "id": "1d766a60",
   "metadata": {},
   "outputs": [
    {
     "data": {
      "text/html": [
       "<div>\n",
       "<style scoped>\n",
       "    .dataframe tbody tr th:only-of-type {\n",
       "        vertical-align: middle;\n",
       "    }\n",
       "\n",
       "    .dataframe tbody tr th {\n",
       "        vertical-align: top;\n",
       "    }\n",
       "\n",
       "    .dataframe thead th {\n",
       "        text-align: right;\n",
       "    }\n",
       "</style>\n",
       "<table border=\"1\" class=\"dataframe\">\n",
       "  <thead>\n",
       "    <tr style=\"text-align: right;\">\n",
       "      <th></th>\n",
       "      <th>idCliente</th>\n",
       "      <th>sexo</th>\n",
       "      <th>edad</th>\n",
       "      <th>ingreso</th>\n",
       "      <th>tipoHogar</th>\n",
       "      <th>estadoCivil</th>\n",
       "      <th>numHijos</th>\n",
       "      <th>puntajeCredito</th>\n",
       "      <th>tipoTrabajo</th>\n",
       "      <th>educacion</th>\n",
       "      <th>fecInicioPoliza</th>\n",
       "      <th>tipoSeguro</th>\n",
       "      <th>montoSeguro</th>\n",
       "      <th>fechaReclamo</th>\n",
       "      <th>montoReclamo</th>\n",
       "      <th>target</th>\n",
       "      <th>mesFechaReclamo</th>\n",
       "      <th>diaSemFechaReclamo</th>\n",
       "    </tr>\n",
       "  </thead>\n",
       "  <tbody>\n",
       "    <tr>\n",
       "      <th>0</th>\n",
       "      <td>1</td>\n",
       "      <td>Femenino</td>\n",
       "      <td>28</td>\n",
       "      <td>558900</td>\n",
       "      <td>Departamento</td>\n",
       "      <td>Viudo</td>\n",
       "      <td>3</td>\n",
       "      <td>556</td>\n",
       "      <td>Empresario</td>\n",
       "      <td>Preparatoria</td>\n",
       "      <td>2022-03-28</td>\n",
       "      <td>Vida</td>\n",
       "      <td>1806</td>\n",
       "      <td>2022-11-14</td>\n",
       "      <td>558</td>\n",
       "      <td>0</td>\n",
       "      <td>11</td>\n",
       "      <td>0</td>\n",
       "    </tr>\n",
       "    <tr>\n",
       "      <th>1</th>\n",
       "      <td>2</td>\n",
       "      <td>Femenino</td>\n",
       "      <td>18</td>\n",
       "      <td>212925</td>\n",
       "      <td>Departamento</td>\n",
       "      <td>Viudo</td>\n",
       "      <td>1</td>\n",
       "      <td>330</td>\n",
       "      <td>Empleado</td>\n",
       "      <td>Posgrado</td>\n",
       "      <td>2022-09-15</td>\n",
       "      <td>Vida</td>\n",
       "      <td>1371</td>\n",
       "      <td>2022-04-25</td>\n",
       "      <td>922</td>\n",
       "      <td>0</td>\n",
       "      <td>4</td>\n",
       "      <td>0</td>\n",
       "    </tr>\n",
       "    <tr>\n",
       "      <th>2</th>\n",
       "      <td>3</td>\n",
       "      <td>Femenino</td>\n",
       "      <td>37</td>\n",
       "      <td>838328</td>\n",
       "      <td>Departamento</td>\n",
       "      <td>Casado</td>\n",
       "      <td>3</td>\n",
       "      <td>776</td>\n",
       "      <td>Empresario</td>\n",
       "      <td>Universidad</td>\n",
       "      <td>2022-03-18</td>\n",
       "      <td>Hogar</td>\n",
       "      <td>6751</td>\n",
       "      <td>2022-07-31</td>\n",
       "      <td>3128</td>\n",
       "      <td>0</td>\n",
       "      <td>7</td>\n",
       "      <td>6</td>\n",
       "    </tr>\n",
       "    <tr>\n",
       "      <th>3</th>\n",
       "      <td>4</td>\n",
       "      <td>Masculino</td>\n",
       "      <td>25</td>\n",
       "      <td>459616</td>\n",
       "      <td>Casa</td>\n",
       "      <td>Soltero</td>\n",
       "      <td>4</td>\n",
       "      <td>821</td>\n",
       "      <td>Independiente</td>\n",
       "      <td>Universidad</td>\n",
       "      <td>2022-11-14</td>\n",
       "      <td>Hogar</td>\n",
       "      <td>5448</td>\n",
       "      <td>2022-07-29</td>\n",
       "      <td>1493</td>\n",
       "      <td>0</td>\n",
       "      <td>7</td>\n",
       "      <td>4</td>\n",
       "    </tr>\n",
       "    <tr>\n",
       "      <th>5</th>\n",
       "      <td>6</td>\n",
       "      <td>Masculino</td>\n",
       "      <td>58</td>\n",
       "      <td>322007</td>\n",
       "      <td>Departamento</td>\n",
       "      <td>Soltero</td>\n",
       "      <td>3</td>\n",
       "      <td>445</td>\n",
       "      <td>Empleado</td>\n",
       "      <td>Posgrado</td>\n",
       "      <td>2022-09-29</td>\n",
       "      <td>Auto</td>\n",
       "      <td>6316</td>\n",
       "      <td>2022-09-06</td>\n",
       "      <td>4049</td>\n",
       "      <td>0</td>\n",
       "      <td>9</td>\n",
       "      <td>1</td>\n",
       "    </tr>\n",
       "  </tbody>\n",
       "</table>\n",
       "</div>"
      ],
      "text/plain": [
       "   idCliente       sexo  edad  ingreso     tipoHogar estadoCivil  numHijos  \\\n",
       "0          1   Femenino    28   558900  Departamento       Viudo         3   \n",
       "1          2   Femenino    18   212925  Departamento       Viudo         1   \n",
       "2          3   Femenino    37   838328  Departamento      Casado         3   \n",
       "3          4  Masculino    25   459616          Casa     Soltero         4   \n",
       "5          6  Masculino    58   322007  Departamento     Soltero         3   \n",
       "\n",
       "   puntajeCredito    tipoTrabajo     educacion fecInicioPoliza tipoSeguro  \\\n",
       "0             556     Empresario  Preparatoria      2022-03-28       Vida   \n",
       "1             330       Empleado      Posgrado      2022-09-15       Vida   \n",
       "2             776     Empresario   Universidad      2022-03-18      Hogar   \n",
       "3             821  Independiente   Universidad      2022-11-14      Hogar   \n",
       "5             445       Empleado      Posgrado      2022-09-29       Auto   \n",
       "\n",
       "   montoSeguro fechaReclamo  montoReclamo  target mesFechaReclamo  \\\n",
       "0         1806   2022-11-14           558       0              11   \n",
       "1         1371   2022-04-25           922       0               4   \n",
       "2         6751   2022-07-31          3128       0               7   \n",
       "3         5448   2022-07-29          1493       0               7   \n",
       "5         6316   2022-09-06          4049       0               9   \n",
       "\n",
       "  diaSemFechaReclamo  \n",
       "0                  0  \n",
       "1                  0  \n",
       "2                  6  \n",
       "3                  4  \n",
       "5                  1  "
      ]
     },
     "execution_count": 27,
     "metadata": {},
     "output_type": "execute_result"
    }
   ],
   "source": [
    "df.head(5)"
   ]
  },
  {
   "cell_type": "markdown",
   "id": "e8499619",
   "metadata": {},
   "source": [
    "El dia de la semana con Lunes=0, Domingo=6."
   ]
  },
  {
   "cell_type": "code",
   "execution_count": 28,
   "id": "bbb3418a",
   "metadata": {},
   "outputs": [
    {
     "data": {
      "text/plain": [
       "1    402\n",
       "2    394\n",
       "4    373\n",
       "0    360\n",
       "3    360\n",
       "6    349\n",
       "5    328\n",
       "Name: diaSemFechaReclamo, dtype: int64"
      ]
     },
     "execution_count": 28,
     "metadata": {},
     "output_type": "execute_result"
    }
   ],
   "source": [
    "df.diaSemFechaReclamo.value_counts()"
   ]
  },
  {
   "cell_type": "markdown",
   "id": "131b776b",
   "metadata": {},
   "source": [
    "# EDA"
   ]
  },
  {
   "cell_type": "markdown",
   "id": "63c23e9c",
   "metadata": {},
   "source": [
    "## Análisis preliminar Univariado"
   ]
  },
  {
   "cell_type": "code",
   "execution_count": 29,
   "id": "5397e81c",
   "metadata": {},
   "outputs": [
    {
     "name": "stdout",
     "output_type": "stream",
     "text": [
      "<class 'pandas.core.frame.DataFrame'>\n",
      "Int64Index: 2566 entries, 0 to 2999\n",
      "Data columns (total 18 columns):\n",
      " #   Column              Non-Null Count  Dtype         \n",
      "---  ------              --------------  -----         \n",
      " 0   idCliente           2566 non-null   int64         \n",
      " 1   sexo                2566 non-null   object        \n",
      " 2   edad                2566 non-null   int64         \n",
      " 3   ingreso             2566 non-null   int64         \n",
      " 4   tipoHogar           2566 non-null   object        \n",
      " 5   estadoCivil         2566 non-null   object        \n",
      " 6   numHijos            2566 non-null   int64         \n",
      " 7   puntajeCredito      2566 non-null   int64         \n",
      " 8   tipoTrabajo         2566 non-null   object        \n",
      " 9   educacion           2566 non-null   object        \n",
      " 10  fecInicioPoliza     2566 non-null   datetime64[ns]\n",
      " 11  tipoSeguro          2566 non-null   object        \n",
      " 12  montoSeguro         2566 non-null   int64         \n",
      " 13  fechaReclamo        2566 non-null   datetime64[ns]\n",
      " 14  montoReclamo        2566 non-null   int64         \n",
      " 15  target              2566 non-null   int32         \n",
      " 16  mesFechaReclamo     2566 non-null   category      \n",
      " 17  diaSemFechaReclamo  2566 non-null   category      \n",
      "dtypes: category(2), datetime64[ns](2), int32(1), int64(7), object(6)\n",
      "memory usage: 336.5+ KB\n"
     ]
    }
   ],
   "source": [
    "df.info()"
   ]
  },
  {
   "cell_type": "code",
   "execution_count": 30,
   "id": "16a801fe",
   "metadata": {},
   "outputs": [],
   "source": [
    "# Copia del df original\n",
    "df_analisis =df.copy()"
   ]
  },
  {
   "cell_type": "code",
   "execution_count": 31,
   "id": "cebd9422",
   "metadata": {},
   "outputs": [
    {
     "data": {
      "text/html": [
       "<div>\n",
       "<style scoped>\n",
       "    .dataframe tbody tr th:only-of-type {\n",
       "        vertical-align: middle;\n",
       "    }\n",
       "\n",
       "    .dataframe tbody tr th {\n",
       "        vertical-align: top;\n",
       "    }\n",
       "\n",
       "    .dataframe thead th {\n",
       "        text-align: right;\n",
       "    }\n",
       "</style>\n",
       "<table border=\"1\" class=\"dataframe\">\n",
       "  <thead>\n",
       "    <tr style=\"text-align: right;\">\n",
       "      <th></th>\n",
       "      <th>idCliente</th>\n",
       "      <th>sexo</th>\n",
       "      <th>edad</th>\n",
       "      <th>ingreso</th>\n",
       "      <th>tipoHogar</th>\n",
       "      <th>estadoCivil</th>\n",
       "      <th>numHijos</th>\n",
       "      <th>puntajeCredito</th>\n",
       "      <th>tipoTrabajo</th>\n",
       "      <th>educacion</th>\n",
       "      <th>fecInicioPoliza</th>\n",
       "      <th>tipoSeguro</th>\n",
       "      <th>montoSeguro</th>\n",
       "      <th>fechaReclamo</th>\n",
       "      <th>montoReclamo</th>\n",
       "      <th>target</th>\n",
       "      <th>mesFechaReclamo</th>\n",
       "      <th>diaSemFechaReclamo</th>\n",
       "    </tr>\n",
       "  </thead>\n",
       "  <tbody>\n",
       "    <tr>\n",
       "      <th>0</th>\n",
       "      <td>1</td>\n",
       "      <td>Femenino</td>\n",
       "      <td>28</td>\n",
       "      <td>558900</td>\n",
       "      <td>Departamento</td>\n",
       "      <td>Viudo</td>\n",
       "      <td>3</td>\n",
       "      <td>556</td>\n",
       "      <td>Empresario</td>\n",
       "      <td>Preparatoria</td>\n",
       "      <td>2022-03-28</td>\n",
       "      <td>Vida</td>\n",
       "      <td>1806</td>\n",
       "      <td>2022-11-14</td>\n",
       "      <td>558</td>\n",
       "      <td>0</td>\n",
       "      <td>11</td>\n",
       "      <td>0</td>\n",
       "    </tr>\n",
       "    <tr>\n",
       "      <th>1</th>\n",
       "      <td>2</td>\n",
       "      <td>Femenino</td>\n",
       "      <td>18</td>\n",
       "      <td>212925</td>\n",
       "      <td>Departamento</td>\n",
       "      <td>Viudo</td>\n",
       "      <td>1</td>\n",
       "      <td>330</td>\n",
       "      <td>Empleado</td>\n",
       "      <td>Posgrado</td>\n",
       "      <td>2022-09-15</td>\n",
       "      <td>Vida</td>\n",
       "      <td>1371</td>\n",
       "      <td>2022-04-25</td>\n",
       "      <td>922</td>\n",
       "      <td>0</td>\n",
       "      <td>4</td>\n",
       "      <td>0</td>\n",
       "    </tr>\n",
       "    <tr>\n",
       "      <th>2</th>\n",
       "      <td>3</td>\n",
       "      <td>Femenino</td>\n",
       "      <td>37</td>\n",
       "      <td>838328</td>\n",
       "      <td>Departamento</td>\n",
       "      <td>Casado</td>\n",
       "      <td>3</td>\n",
       "      <td>776</td>\n",
       "      <td>Empresario</td>\n",
       "      <td>Universidad</td>\n",
       "      <td>2022-03-18</td>\n",
       "      <td>Hogar</td>\n",
       "      <td>6751</td>\n",
       "      <td>2022-07-31</td>\n",
       "      <td>3128</td>\n",
       "      <td>0</td>\n",
       "      <td>7</td>\n",
       "      <td>6</td>\n",
       "    </tr>\n",
       "    <tr>\n",
       "      <th>3</th>\n",
       "      <td>4</td>\n",
       "      <td>Masculino</td>\n",
       "      <td>25</td>\n",
       "      <td>459616</td>\n",
       "      <td>Casa</td>\n",
       "      <td>Soltero</td>\n",
       "      <td>4</td>\n",
       "      <td>821</td>\n",
       "      <td>Independiente</td>\n",
       "      <td>Universidad</td>\n",
       "      <td>2022-11-14</td>\n",
       "      <td>Hogar</td>\n",
       "      <td>5448</td>\n",
       "      <td>2022-07-29</td>\n",
       "      <td>1493</td>\n",
       "      <td>0</td>\n",
       "      <td>7</td>\n",
       "      <td>4</td>\n",
       "    </tr>\n",
       "    <tr>\n",
       "      <th>5</th>\n",
       "      <td>6</td>\n",
       "      <td>Masculino</td>\n",
       "      <td>58</td>\n",
       "      <td>322007</td>\n",
       "      <td>Departamento</td>\n",
       "      <td>Soltero</td>\n",
       "      <td>3</td>\n",
       "      <td>445</td>\n",
       "      <td>Empleado</td>\n",
       "      <td>Posgrado</td>\n",
       "      <td>2022-09-29</td>\n",
       "      <td>Auto</td>\n",
       "      <td>6316</td>\n",
       "      <td>2022-09-06</td>\n",
       "      <td>4049</td>\n",
       "      <td>0</td>\n",
       "      <td>9</td>\n",
       "      <td>1</td>\n",
       "    </tr>\n",
       "  </tbody>\n",
       "</table>\n",
       "</div>"
      ],
      "text/plain": [
       "   idCliente       sexo  edad  ingreso     tipoHogar estadoCivil  numHijos  \\\n",
       "0          1   Femenino    28   558900  Departamento       Viudo         3   \n",
       "1          2   Femenino    18   212925  Departamento       Viudo         1   \n",
       "2          3   Femenino    37   838328  Departamento      Casado         3   \n",
       "3          4  Masculino    25   459616          Casa     Soltero         4   \n",
       "5          6  Masculino    58   322007  Departamento     Soltero         3   \n",
       "\n",
       "   puntajeCredito    tipoTrabajo     educacion fecInicioPoliza tipoSeguro  \\\n",
       "0             556     Empresario  Preparatoria      2022-03-28       Vida   \n",
       "1             330       Empleado      Posgrado      2022-09-15       Vida   \n",
       "2             776     Empresario   Universidad      2022-03-18      Hogar   \n",
       "3             821  Independiente   Universidad      2022-11-14      Hogar   \n",
       "5             445       Empleado      Posgrado      2022-09-29       Auto   \n",
       "\n",
       "   montoSeguro fechaReclamo  montoReclamo  target mesFechaReclamo  \\\n",
       "0         1806   2022-11-14           558       0              11   \n",
       "1         1371   2022-04-25           922       0               4   \n",
       "2         6751   2022-07-31          3128       0               7   \n",
       "3         5448   2022-07-29          1493       0               7   \n",
       "5         6316   2022-09-06          4049       0               9   \n",
       "\n",
       "  diaSemFechaReclamo  \n",
       "0                  0  \n",
       "1                  0  \n",
       "2                  6  \n",
       "3                  4  \n",
       "5                  1  "
      ]
     },
     "execution_count": 31,
     "metadata": {},
     "output_type": "execute_result"
    }
   ],
   "source": [
    "df_analisis.head(5)"
   ]
  },
  {
   "cell_type": "markdown",
   "id": "2008832b",
   "metadata": {},
   "source": [
    "**SEXO**"
   ]
  },
  {
   "cell_type": "code",
   "execution_count": 32,
   "id": "b3e8858a",
   "metadata": {},
   "outputs": [
    {
     "data": {
      "text/html": [
       "<div>\n",
       "<style scoped>\n",
       "    .dataframe tbody tr th:only-of-type {\n",
       "        vertical-align: middle;\n",
       "    }\n",
       "\n",
       "    .dataframe tbody tr th {\n",
       "        vertical-align: top;\n",
       "    }\n",
       "\n",
       "    .dataframe thead th {\n",
       "        text-align: right;\n",
       "    }\n",
       "</style>\n",
       "<table border=\"1\" class=\"dataframe\">\n",
       "  <thead>\n",
       "    <tr style=\"text-align: right;\">\n",
       "      <th></th>\n",
       "      <th>sexo</th>\n",
       "      <th>nro_reclamos</th>\n",
       "      <th>% Total</th>\n",
       "    </tr>\n",
       "  </thead>\n",
       "  <tbody>\n",
       "    <tr>\n",
       "      <th>1</th>\n",
       "      <td>Masculino</td>\n",
       "      <td>1298</td>\n",
       "      <td>50.584567</td>\n",
       "    </tr>\n",
       "    <tr>\n",
       "      <th>0</th>\n",
       "      <td>Femenino</td>\n",
       "      <td>1268</td>\n",
       "      <td>49.415433</td>\n",
       "    </tr>\n",
       "  </tbody>\n",
       "</table>\n",
       "</div>"
      ],
      "text/plain": [
       "        sexo  nro_reclamos    % Total\n",
       "1  Masculino          1298  50.584567\n",
       "0   Femenino          1268  49.415433"
      ]
     },
     "execution_count": 32,
     "metadata": {},
     "output_type": "execute_result"
    }
   ],
   "source": [
    "groupped_data = df_analisis.groupby(['sexo'],as_index=False).agg({'target': 'count'})\n",
    "groupped_data.rename(columns={'target':'nro_reclamos'},inplace=True)\n",
    "groupped_data.sort_values(by=['nro_reclamos'],ascending=False,inplace=True)\n",
    "groupped_data[\"% Total\"] = groupped_data['nro_reclamos']/len(df_analisis)*100\n",
    "groupped_data.head(5)"
   ]
  },
  {
   "cell_type": "code",
   "execution_count": 33,
   "id": "f6a60a7d",
   "metadata": {},
   "outputs": [
    {
     "data": {
      "image/png": "[encoded data removed]",
      "text/plain": [
       "<Figure size 400x300 with 1 Axes>"
      ]
     },
     "metadata": {},
     "output_type": "display_data"
    }
   ],
   "source": [
    "plt.figure(figsize=(4,3))\n",
    "ax=sns.countplot(data=df_analisis,x='sexo',\n",
    "                 order=df_analisis['sexo'].value_counts().index)\n",
    "ax.set_xticklabels(ax.get_xticklabels(), rotation=40, ha=\"right\")\n",
    "\n",
    "total = len(df_analisis)\n",
    "for p in ax.patches:\n",
    "    percentage = f'{100 * p.get_height() / total:.1f}%\\n'\n",
    "    x = p.get_x() + p.get_width() / 2\n",
    "    y = p.get_height()\n",
    "    ax.annotate(percentage, (x, y), ha='center', va='center')\n",
    "plt.tight_layout()\n",
    "plt.show()"
   ]
  },
  {
   "cell_type": "markdown",
   "id": "f2c2e7e9",
   "metadata": {},
   "source": [
    "Se observa que se tiene una cantidad pareja de reclamos por parte del genero Masculino y Femenino."
   ]
  },
  {
   "cell_type": "markdown",
   "id": "ca035931",
   "metadata": {},
   "source": [
    "**TIPO DE HOGAR**"
   ]
  },
  {
   "cell_type": "code",
   "execution_count": 34,
   "id": "1555bfd0",
   "metadata": {},
   "outputs": [
    {
     "data": {
      "text/html": [
       "<div>\n",
       "<style scoped>\n",
       "    .dataframe tbody tr th:only-of-type {\n",
       "        vertical-align: middle;\n",
       "    }\n",
       "\n",
       "    .dataframe tbody tr th {\n",
       "        vertical-align: top;\n",
       "    }\n",
       "\n",
       "    .dataframe thead th {\n",
       "        text-align: right;\n",
       "    }\n",
       "</style>\n",
       "<table border=\"1\" class=\"dataframe\">\n",
       "  <thead>\n",
       "    <tr style=\"text-align: right;\">\n",
       "      <th></th>\n",
       "      <th>tipoHogar</th>\n",
       "      <th>nro_reclamos</th>\n",
       "      <th>% Total</th>\n",
       "    </tr>\n",
       "  </thead>\n",
       "  <tbody>\n",
       "    <tr>\n",
       "      <th>0</th>\n",
       "      <td>Casa</td>\n",
       "      <td>1306</td>\n",
       "      <td>50.896337</td>\n",
       "    </tr>\n",
       "    <tr>\n",
       "      <th>1</th>\n",
       "      <td>Departamento</td>\n",
       "      <td>1260</td>\n",
       "      <td>49.103663</td>\n",
       "    </tr>\n",
       "  </tbody>\n",
       "</table>\n",
       "</div>"
      ],
      "text/plain": [
       "      tipoHogar  nro_reclamos    % Total\n",
       "0          Casa          1306  50.896337\n",
       "1  Departamento          1260  49.103663"
      ]
     },
     "execution_count": 34,
     "metadata": {},
     "output_type": "execute_result"
    }
   ],
   "source": [
    "groupped_data = df_analisis.groupby(['tipoHogar'],as_index=False).agg({'target': 'count'})\n",
    "groupped_data.rename(columns={'target':'nro_reclamos'},inplace=True)\n",
    "groupped_data.sort_values(by=['nro_reclamos'],ascending=False,inplace=True)\n",
    "groupped_data[\"% Total\"] = groupped_data['nro_reclamos']/len(df_analisis)*100\n",
    "groupped_data.head(5)"
   ]
  },
  {
   "cell_type": "code",
   "execution_count": 35,
   "id": "73372807",
   "metadata": {},
   "outputs": [
    {
     "data": {
      "image/png": "[encoded data removed]",
      "text/plain": [
       "<Figure size 400x300 with 1 Axes>"
      ]
     },
     "metadata": {},
     "output_type": "display_data"
    }
   ],
   "source": [
    "plt.figure(figsize=(4,3))\n",
    "ax=sns.countplot(data=df_analisis,x='tipoHogar',\n",
    "                 order=df_analisis['tipoHogar'].value_counts().index)\n",
    "ax.set_xticklabels(ax.get_xticklabels(), rotation=40, ha=\"right\")\n",
    "\n",
    "total = len(df_analisis)\n",
    "for p in ax.patches:\n",
    "    percentage = f'{100 * p.get_height() / total:.1f}%\\n'\n",
    "    x = p.get_x() + p.get_width() / 2\n",
    "    y = p.get_height()\n",
    "    ax.annotate(percentage, (x, y), ha='center', va='center')\n",
    "plt.tight_layout()\n",
    "plt.show()"
   ]
  },
  {
   "cell_type": "markdown",
   "id": "2f472610",
   "metadata": {},
   "source": [
    "Se observa que se tiene una cantidad pareja (cerca del 50%) en cuanto a los reclamos emitidos por las personas que viven una casa o departamento."
   ]
  },
  {
   "cell_type": "markdown",
   "id": "eefcfe80",
   "metadata": {},
   "source": [
    "**ESTADO CIVIL**"
   ]
  },
  {
   "cell_type": "code",
   "execution_count": 36,
   "id": "913e2ebf",
   "metadata": {},
   "outputs": [
    {
     "data": {
      "text/html": [
       "<div>\n",
       "<style scoped>\n",
       "    .dataframe tbody tr th:only-of-type {\n",
       "        vertical-align: middle;\n",
       "    }\n",
       "\n",
       "    .dataframe tbody tr th {\n",
       "        vertical-align: top;\n",
       "    }\n",
       "\n",
       "    .dataframe thead th {\n",
       "        text-align: right;\n",
       "    }\n",
       "</style>\n",
       "<table border=\"1\" class=\"dataframe\">\n",
       "  <thead>\n",
       "    <tr style=\"text-align: right;\">\n",
       "      <th></th>\n",
       "      <th>estadoCivil</th>\n",
       "      <th>nro_reclamos</th>\n",
       "      <th>% Total</th>\n",
       "    </tr>\n",
       "  </thead>\n",
       "  <tbody>\n",
       "    <tr>\n",
       "      <th>3</th>\n",
       "      <td>Viudo</td>\n",
       "      <td>686</td>\n",
       "      <td>26.734217</td>\n",
       "    </tr>\n",
       "    <tr>\n",
       "      <th>0</th>\n",
       "      <td>Casado</td>\n",
       "      <td>640</td>\n",
       "      <td>24.941543</td>\n",
       "    </tr>\n",
       "    <tr>\n",
       "      <th>2</th>\n",
       "      <td>Soltero</td>\n",
       "      <td>623</td>\n",
       "      <td>24.279034</td>\n",
       "    </tr>\n",
       "    <tr>\n",
       "      <th>1</th>\n",
       "      <td>Divorciado</td>\n",
       "      <td>617</td>\n",
       "      <td>24.045207</td>\n",
       "    </tr>\n",
       "  </tbody>\n",
       "</table>\n",
       "</div>"
      ],
      "text/plain": [
       "  estadoCivil  nro_reclamos    % Total\n",
       "3       Viudo           686  26.734217\n",
       "0      Casado           640  24.941543\n",
       "2     Soltero           623  24.279034\n",
       "1  Divorciado           617  24.045207"
      ]
     },
     "execution_count": 36,
     "metadata": {},
     "output_type": "execute_result"
    }
   ],
   "source": [
    "groupped_data = df_analisis.groupby(['estadoCivil'],as_index=False).agg({'target': 'count'})\n",
    "groupped_data.rename(columns={'target':'nro_reclamos'},inplace=True)\n",
    "groupped_data.sort_values(by=['nro_reclamos'],ascending=False,inplace=True)\n",
    "groupped_data[\"% Total\"] = groupped_data['nro_reclamos']/len(df_analisis)*100\n",
    "groupped_data.head(5)"
   ]
  },
  {
   "cell_type": "code",
   "execution_count": 37,
   "id": "993a3552",
   "metadata": {},
   "outputs": [
    {
     "data": {
      "image/png": "[encoded data removed]",
      "text/plain": [
       "<Figure size 400x300 with 1 Axes>"
      ]
     },
     "metadata": {},
     "output_type": "display_data"
    }
   ],
   "source": [
    "plt.figure(figsize=(4,3))\n",
    "ax=sns.countplot(data=df_analisis,x='estadoCivil',\n",
    "                 order=df_analisis['estadoCivil'].value_counts().index)\n",
    "ax.set_xticklabels(ax.get_xticklabels(), rotation=40, ha=\"right\")\n",
    "\n",
    "total = len(df_analisis)\n",
    "for p in ax.patches:\n",
    "    percentage = f'{100 * p.get_height() / total:.1f}%\\n'\n",
    "    x = p.get_x() + p.get_width() / 2\n",
    "    y = p.get_height()\n",
    "    ax.annotate(percentage, (x, y), ha='center', va='center')\n",
    "plt.tight_layout()\n",
    "plt.show()"
   ]
  },
  {
   "cell_type": "markdown",
   "id": "049554fb",
   "metadata": {},
   "source": [
    "- Viudo es la categoria de estado civil que tiene mayor cantidad de reclamos presentados. **Cerca del 26.7%**\n",
    "- Divorciado es la categoria de estado civil que tiene menor cantidad de reclamos presentados. **Cerca del 24%**\n",
    "- Aún así las categorias no presentan grandes diferencias unas de otras."
   ]
  },
  {
   "cell_type": "markdown",
   "id": "72b165c6",
   "metadata": {},
   "source": [
    "**TIPO DE TRABAJO**"
   ]
  },
  {
   "cell_type": "code",
   "execution_count": 38,
   "id": "9bebe929",
   "metadata": {},
   "outputs": [
    {
     "data": {
      "text/html": [
       "<div>\n",
       "<style scoped>\n",
       "    .dataframe tbody tr th:only-of-type {\n",
       "        vertical-align: middle;\n",
       "    }\n",
       "\n",
       "    .dataframe tbody tr th {\n",
       "        vertical-align: top;\n",
       "    }\n",
       "\n",
       "    .dataframe thead th {\n",
       "        text-align: right;\n",
       "    }\n",
       "</style>\n",
       "<table border=\"1\" class=\"dataframe\">\n",
       "  <thead>\n",
       "    <tr style=\"text-align: right;\">\n",
       "      <th></th>\n",
       "      <th>tipoTrabajo</th>\n",
       "      <th>nro_reclamos</th>\n",
       "      <th>% Total</th>\n",
       "    </tr>\n",
       "  </thead>\n",
       "  <tbody>\n",
       "    <tr>\n",
       "      <th>0</th>\n",
       "      <td>Empleado</td>\n",
       "      <td>872</td>\n",
       "      <td>33.982853</td>\n",
       "    </tr>\n",
       "    <tr>\n",
       "      <th>1</th>\n",
       "      <td>Empresario</td>\n",
       "      <td>862</td>\n",
       "      <td>33.593141</td>\n",
       "    </tr>\n",
       "    <tr>\n",
       "      <th>2</th>\n",
       "      <td>Independiente</td>\n",
       "      <td>832</td>\n",
       "      <td>32.424006</td>\n",
       "    </tr>\n",
       "  </tbody>\n",
       "</table>\n",
       "</div>"
      ],
      "text/plain": [
       "     tipoTrabajo  nro_reclamos    % Total\n",
       "0       Empleado           872  33.982853\n",
       "1     Empresario           862  33.593141\n",
       "2  Independiente           832  32.424006"
      ]
     },
     "execution_count": 38,
     "metadata": {},
     "output_type": "execute_result"
    }
   ],
   "source": [
    "groupped_data = df_analisis.groupby(['tipoTrabajo'],as_index=False).agg({'target': 'count'})\n",
    "groupped_data.rename(columns={'target':'nro_reclamos'},inplace=True)\n",
    "groupped_data.sort_values(by=['nro_reclamos'],ascending=False,inplace=True)\n",
    "groupped_data[\"% Total\"] = groupped_data['nro_reclamos']/len(df_analisis)*100\n",
    "groupped_data.head(5)"
   ]
  },
  {
   "cell_type": "code",
   "execution_count": 39,
   "id": "dd5eeaa8",
   "metadata": {},
   "outputs": [
    {
     "data": {
      "image/png": "[encoded data removed]",
      "text/plain": [
       "<Figure size 400x300 with 1 Axes>"
      ]
     },
     "metadata": {},
     "output_type": "display_data"
    }
   ],
   "source": [
    "plt.figure(figsize=(4,3))\n",
    "ax=sns.countplot(data=df_analisis,x='tipoTrabajo',\n",
    "                 order=df_analisis['tipoTrabajo'].value_counts().index)\n",
    "ax.set_xticklabels(ax.get_xticklabels(), rotation=40, ha=\"right\")\n",
    "\n",
    "total = len(df_analisis)\n",
    "for p in ax.patches:\n",
    "    percentage = f'{100 * p.get_height() / total:.1f}%\\n'\n",
    "    x = p.get_x() + p.get_width() / 2\n",
    "    y = p.get_height()\n",
    "    ax.annotate(percentage, (x, y), ha='center', va='center')\n",
    "plt.tight_layout()\n",
    "plt.show()"
   ]
  },
  {
   "cell_type": "markdown",
   "id": "f5fcc73a",
   "metadata": {},
   "source": [
    "- Empleado es la categoria de tipo de trabajo que tiene mayor cantidad de reclamos presentados. **Cerca del 34%**\n",
    "- Independiente es la categoria de tipo de trabajo que tiene menor cantidad de reclamos presentados. **Cerca del 32%**\n",
    "- Aún así las categorias no presentan grandes diferencias unas de otras."
   ]
  },
  {
   "cell_type": "markdown",
   "id": "420e7a6f",
   "metadata": {},
   "source": [
    "**EDUCACION**"
   ]
  },
  {
   "cell_type": "code",
   "execution_count": 40,
   "id": "6c0ebc28",
   "metadata": {},
   "outputs": [
    {
     "data": {
      "text/html": [
       "<div>\n",
       "<style scoped>\n",
       "    .dataframe tbody tr th:only-of-type {\n",
       "        vertical-align: middle;\n",
       "    }\n",
       "\n",
       "    .dataframe tbody tr th {\n",
       "        vertical-align: top;\n",
       "    }\n",
       "\n",
       "    .dataframe thead th {\n",
       "        text-align: right;\n",
       "    }\n",
       "</style>\n",
       "<table border=\"1\" class=\"dataframe\">\n",
       "  <thead>\n",
       "    <tr style=\"text-align: right;\">\n",
       "      <th></th>\n",
       "      <th>educacion</th>\n",
       "      <th>nro_reclamos</th>\n",
       "      <th>% Total</th>\n",
       "    </tr>\n",
       "  </thead>\n",
       "  <tbody>\n",
       "    <tr>\n",
       "      <th>0</th>\n",
       "      <td>Posgrado</td>\n",
       "      <td>904</td>\n",
       "      <td>35.229930</td>\n",
       "    </tr>\n",
       "    <tr>\n",
       "      <th>1</th>\n",
       "      <td>Preparatoria</td>\n",
       "      <td>879</td>\n",
       "      <td>34.255651</td>\n",
       "    </tr>\n",
       "    <tr>\n",
       "      <th>2</th>\n",
       "      <td>Universidad</td>\n",
       "      <td>783</td>\n",
       "      <td>30.514419</td>\n",
       "    </tr>\n",
       "  </tbody>\n",
       "</table>\n",
       "</div>"
      ],
      "text/plain": [
       "      educacion  nro_reclamos    % Total\n",
       "0      Posgrado           904  35.229930\n",
       "1  Preparatoria           879  34.255651\n",
       "2   Universidad           783  30.514419"
      ]
     },
     "execution_count": 40,
     "metadata": {},
     "output_type": "execute_result"
    }
   ],
   "source": [
    "groupped_data = df_analisis.groupby(['educacion'],as_index=False).agg({'target': 'count'})\n",
    "groupped_data.rename(columns={'target':'nro_reclamos'},inplace=True)\n",
    "groupped_data.sort_values(by=['nro_reclamos'],ascending=False,inplace=True)\n",
    "groupped_data[\"% Total\"] = groupped_data['nro_reclamos']/len(df_analisis)*100\n",
    "groupped_data.head(5)"
   ]
  },
  {
   "cell_type": "code",
   "execution_count": 41,
   "id": "dae4fae8",
   "metadata": {},
   "outputs": [
    {
     "data": {
      "image/png": "[encoded data removed]",
      "text/plain": [
       "<Figure size 400x300 with 1 Axes>"
      ]
     },
     "metadata": {},
     "output_type": "display_data"
    }
   ],
   "source": [
    "plt.figure(figsize=(4,3))\n",
    "ax=sns.countplot(data=df_analisis,x='educacion',\n",
    "                 order=df_analisis['educacion'].value_counts().index)\n",
    "ax.set_xticklabels(ax.get_xticklabels(), rotation=40, ha=\"right\")\n",
    "\n",
    "total = len(df_analisis)\n",
    "for p in ax.patches:\n",
    "    percentage = f'{100 * p.get_height() / total:.1f}%\\n'\n",
    "    x = p.get_x() + p.get_width() / 2\n",
    "    y = p.get_height()\n",
    "    ax.annotate(percentage, (x, y), ha='center', va='center')\n",
    "plt.tight_layout()\n",
    "plt.show()"
   ]
  },
  {
   "cell_type": "markdown",
   "id": "3165dbff",
   "metadata": {},
   "source": [
    "- Posgrado es la categoria de educacion que tiene mayor cantidad de reclamos presentados. **Cerca del 35%**\n",
    "- Universidad es la categoria de educacion que tiene menor cantidad de reclamos presentados. **Cerca del 30%**"
   ]
  },
  {
   "cell_type": "markdown",
   "id": "f2f323c5",
   "metadata": {},
   "source": [
    "**TIPO DE SEGURO**"
   ]
  },
  {
   "cell_type": "code",
   "execution_count": 42,
   "id": "423779b7",
   "metadata": {},
   "outputs": [
    {
     "data": {
      "text/html": [
       "<div>\n",
       "<style scoped>\n",
       "    .dataframe tbody tr th:only-of-type {\n",
       "        vertical-align: middle;\n",
       "    }\n",
       "\n",
       "    .dataframe tbody tr th {\n",
       "        vertical-align: top;\n",
       "    }\n",
       "\n",
       "    .dataframe thead th {\n",
       "        text-align: right;\n",
       "    }\n",
       "</style>\n",
       "<table border=\"1\" class=\"dataframe\">\n",
       "  <thead>\n",
       "    <tr style=\"text-align: right;\">\n",
       "      <th></th>\n",
       "      <th>tipoSeguro</th>\n",
       "      <th>nro_reclamos</th>\n",
       "      <th>% Total</th>\n",
       "    </tr>\n",
       "  </thead>\n",
       "  <tbody>\n",
       "    <tr>\n",
       "      <th>3</th>\n",
       "      <td>Vida</td>\n",
       "      <td>665</td>\n",
       "      <td>25.915822</td>\n",
       "    </tr>\n",
       "    <tr>\n",
       "      <th>2</th>\n",
       "      <td>Salud</td>\n",
       "      <td>661</td>\n",
       "      <td>25.759938</td>\n",
       "    </tr>\n",
       "    <tr>\n",
       "      <th>1</th>\n",
       "      <td>Hogar</td>\n",
       "      <td>628</td>\n",
       "      <td>24.473889</td>\n",
       "    </tr>\n",
       "    <tr>\n",
       "      <th>0</th>\n",
       "      <td>Auto</td>\n",
       "      <td>612</td>\n",
       "      <td>23.850351</td>\n",
       "    </tr>\n",
       "  </tbody>\n",
       "</table>\n",
       "</div>"
      ],
      "text/plain": [
       "  tipoSeguro  nro_reclamos    % Total\n",
       "3       Vida           665  25.915822\n",
       "2      Salud           661  25.759938\n",
       "1      Hogar           628  24.473889\n",
       "0       Auto           612  23.850351"
      ]
     },
     "execution_count": 42,
     "metadata": {},
     "output_type": "execute_result"
    }
   ],
   "source": [
    "groupped_data = df_analisis.groupby(['tipoSeguro'],as_index=False).agg({'target': 'count'})\n",
    "groupped_data.rename(columns={'target':'nro_reclamos'},inplace=True)\n",
    "groupped_data.sort_values(by=['nro_reclamos'],ascending=False,inplace=True)\n",
    "groupped_data[\"% Total\"] = groupped_data['nro_reclamos']/len(df_analisis)*100\n",
    "groupped_data.head(5)"
   ]
  },
  {
   "cell_type": "code",
   "execution_count": 43,
   "id": "9f891498",
   "metadata": {},
   "outputs": [
    {
     "data": {
      "image/png": "[encoded data removed]",
      "text/plain": [
       "<Figure size 400x300 with 1 Axes>"
      ]
     },
     "metadata": {},
     "output_type": "display_data"
    }
   ],
   "source": [
    "plt.figure(figsize=(4,3))\n",
    "ax=sns.countplot(data=df_analisis,x='tipoSeguro',\n",
    "                 order=df_analisis['tipoSeguro'].value_counts().index)\n",
    "ax.set_xticklabels(ax.get_xticklabels(), rotation=40, ha=\"right\")\n",
    "\n",
    "total = len(df_analisis)\n",
    "for p in ax.patches:\n",
    "    percentage = f'{100 * p.get_height() / total:.1f}%\\n'\n",
    "    x = p.get_x() + p.get_width() / 2\n",
    "    y = p.get_height()\n",
    "    ax.annotate(percentage, (x, y), ha='center', va='center')\n",
    "plt.tight_layout()\n",
    "plt.show()"
   ]
  },
  {
   "cell_type": "markdown",
   "id": "8ba8224c",
   "metadata": {},
   "source": [
    "- Vida es la categoria de tipo de seguro que tiene mayor cantidad de reclamos presentados. **Cerca del 26%**\n",
    "- Auto es la categoria de tipo de seguro que tiene menor cantidad de reclamos presentados. **Cerca del 24%**\n",
    "- Aún así las categorias no presentan grandes diferencias unas de otras."
   ]
  },
  {
   "cell_type": "markdown",
   "id": "41d84ceb",
   "metadata": {},
   "source": [
    "**MES DE LA FECHA DE RECLAMO**"
   ]
  },
  {
   "cell_type": "code",
   "execution_count": 46,
   "id": "09352b93",
   "metadata": {},
   "outputs": [
    {
     "data": {
      "text/html": [
       "<div>\n",
       "<style scoped>\n",
       "    .dataframe tbody tr th:only-of-type {\n",
       "        vertical-align: middle;\n",
       "    }\n",
       "\n",
       "    .dataframe tbody tr th {\n",
       "        vertical-align: top;\n",
       "    }\n",
       "\n",
       "    .dataframe thead th {\n",
       "        text-align: right;\n",
       "    }\n",
       "</style>\n",
       "<table border=\"1\" class=\"dataframe\">\n",
       "  <thead>\n",
       "    <tr style=\"text-align: right;\">\n",
       "      <th></th>\n",
       "      <th>mesFechaReclamo</th>\n",
       "      <th>nro_reclamos</th>\n",
       "      <th>% Total</th>\n",
       "    </tr>\n",
       "  </thead>\n",
       "  <tbody>\n",
       "    <tr>\n",
       "      <th>0</th>\n",
       "      <td>1</td>\n",
       "      <td>247</td>\n",
       "      <td>9.625877</td>\n",
       "    </tr>\n",
       "    <tr>\n",
       "      <th>1</th>\n",
       "      <td>2</td>\n",
       "      <td>237</td>\n",
       "      <td>9.236165</td>\n",
       "    </tr>\n",
       "    <tr>\n",
       "      <th>2</th>\n",
       "      <td>3</td>\n",
       "      <td>226</td>\n",
       "      <td>8.807482</td>\n",
       "    </tr>\n",
       "    <tr>\n",
       "      <th>7</th>\n",
       "      <td>8</td>\n",
       "      <td>224</td>\n",
       "      <td>8.729540</td>\n",
       "    </tr>\n",
       "    <tr>\n",
       "      <th>6</th>\n",
       "      <td>7</td>\n",
       "      <td>222</td>\n",
       "      <td>8.651598</td>\n",
       "    </tr>\n",
       "    <tr>\n",
       "      <th>8</th>\n",
       "      <td>9</td>\n",
       "      <td>213</td>\n",
       "      <td>8.300857</td>\n",
       "    </tr>\n",
       "    <tr>\n",
       "      <th>3</th>\n",
       "      <td>4</td>\n",
       "      <td>209</td>\n",
       "      <td>8.144973</td>\n",
       "    </tr>\n",
       "    <tr>\n",
       "      <th>9</th>\n",
       "      <td>10</td>\n",
       "      <td>205</td>\n",
       "      <td>7.989088</td>\n",
       "    </tr>\n",
       "    <tr>\n",
       "      <th>4</th>\n",
       "      <td>5</td>\n",
       "      <td>201</td>\n",
       "      <td>7.833203</td>\n",
       "    </tr>\n",
       "    <tr>\n",
       "      <th>10</th>\n",
       "      <td>11</td>\n",
       "      <td>200</td>\n",
       "      <td>7.794232</td>\n",
       "    </tr>\n",
       "    <tr>\n",
       "      <th>11</th>\n",
       "      <td>12</td>\n",
       "      <td>197</td>\n",
       "      <td>7.677319</td>\n",
       "    </tr>\n",
       "    <tr>\n",
       "      <th>5</th>\n",
       "      <td>6</td>\n",
       "      <td>185</td>\n",
       "      <td>7.209665</td>\n",
       "    </tr>\n",
       "  </tbody>\n",
       "</table>\n",
       "</div>"
      ],
      "text/plain": [
       "   mesFechaReclamo  nro_reclamos   % Total\n",
       "0                1           247  9.625877\n",
       "1                2           237  9.236165\n",
       "2                3           226  8.807482\n",
       "7                8           224  8.729540\n",
       "6                7           222  8.651598\n",
       "8                9           213  8.300857\n",
       "3                4           209  8.144973\n",
       "9               10           205  7.989088\n",
       "4                5           201  7.833203\n",
       "10              11           200  7.794232\n",
       "11              12           197  7.677319\n",
       "5                6           185  7.209665"
      ]
     },
     "execution_count": 46,
     "metadata": {},
     "output_type": "execute_result"
    }
   ],
   "source": [
    "groupped_data = df_analisis.groupby(['mesFechaReclamo'],as_index=False).agg({'target': 'count'})\n",
    "groupped_data.rename(columns={'target':'nro_reclamos'},inplace=True)\n",
    "groupped_data.sort_values(by=['nro_reclamos'],ascending=False,inplace=True)\n",
    "groupped_data[\"% Total\"] = groupped_data['nro_reclamos']/len(df_analisis)*100\n",
    "groupped_data.head(20)"
   ]
  },
  {
   "cell_type": "code",
   "execution_count": 48,
   "id": "2c2f3a22",
   "metadata": {},
   "outputs": [
    {
     "data": {
      "image/png": "[encoded data removed]",
      "text/plain": [
       "<Figure size 1000x300 with 1 Axes>"
      ]
     },
     "metadata": {},
     "output_type": "display_data"
    }
   ],
   "source": [
    "plt.figure(figsize=(10,3))\n",
    "ax=sns.countplot(data=df_analisis,x='mesFechaReclamo',\n",
    "                 order=df_analisis['mesFechaReclamo'].value_counts().index)\n",
    "ax.set_xticklabels(ax.get_xticklabels(), rotation=40, ha=\"right\")\n",
    "\n",
    "total = len(df_analisis)\n",
    "for p in ax.patches:\n",
    "    percentage = f'{100 * p.get_height() / total:.1f}%\\n'\n",
    "    x = p.get_x() + p.get_width() / 2\n",
    "    y = p.get_height()\n",
    "    ax.annotate(percentage, (x, y), ha='center', va='center')\n",
    "plt.tight_layout()\n",
    "plt.show()"
   ]
  },
  {
   "cell_type": "markdown",
   "id": "d3810228",
   "metadata": {},
   "source": [
    "- Enero y Febrero son los meses que presentan la mayor cantidad reclamos presentados. Cerca del 10% y 9% respectivamente.\n",
    "- Diciembre y Junio son los meses que presentan la menor cantidad reclamos presentados. Cerca del 8% y 7% respectivamente."
   ]
  },
  {
   "cell_type": "markdown",
   "id": "67f63bd9",
   "metadata": {},
   "source": [
    "**DIA DE SEMANA DE LA FECHA DE RECLAMO**"
   ]
  },
  {
   "cell_type": "code",
   "execution_count": 49,
   "id": "f2972bee",
   "metadata": {},
   "outputs": [
    {
     "data": {
      "text/html": [
       "<div>\n",
       "<style scoped>\n",
       "    .dataframe tbody tr th:only-of-type {\n",
       "        vertical-align: middle;\n",
       "    }\n",
       "\n",
       "    .dataframe tbody tr th {\n",
       "        vertical-align: top;\n",
       "    }\n",
       "\n",
       "    .dataframe thead th {\n",
       "        text-align: right;\n",
       "    }\n",
       "</style>\n",
       "<table border=\"1\" class=\"dataframe\">\n",
       "  <thead>\n",
       "    <tr style=\"text-align: right;\">\n",
       "      <th></th>\n",
       "      <th>diaSemFechaReclamo</th>\n",
       "      <th>nro_reclamos</th>\n",
       "      <th>% Total</th>\n",
       "    </tr>\n",
       "  </thead>\n",
       "  <tbody>\n",
       "    <tr>\n",
       "      <th>1</th>\n",
       "      <td>1</td>\n",
       "      <td>402</td>\n",
       "      <td>15.666407</td>\n",
       "    </tr>\n",
       "    <tr>\n",
       "      <th>2</th>\n",
       "      <td>2</td>\n",
       "      <td>394</td>\n",
       "      <td>15.354638</td>\n",
       "    </tr>\n",
       "    <tr>\n",
       "      <th>4</th>\n",
       "      <td>4</td>\n",
       "      <td>373</td>\n",
       "      <td>14.536243</td>\n",
       "    </tr>\n",
       "    <tr>\n",
       "      <th>0</th>\n",
       "      <td>0</td>\n",
       "      <td>360</td>\n",
       "      <td>14.029618</td>\n",
       "    </tr>\n",
       "    <tr>\n",
       "      <th>3</th>\n",
       "      <td>3</td>\n",
       "      <td>360</td>\n",
       "      <td>14.029618</td>\n",
       "    </tr>\n",
       "    <tr>\n",
       "      <th>6</th>\n",
       "      <td>6</td>\n",
       "      <td>349</td>\n",
       "      <td>13.600935</td>\n",
       "    </tr>\n",
       "    <tr>\n",
       "      <th>5</th>\n",
       "      <td>5</td>\n",
       "      <td>328</td>\n",
       "      <td>12.782541</td>\n",
       "    </tr>\n",
       "  </tbody>\n",
       "</table>\n",
       "</div>"
      ],
      "text/plain": [
       "  diaSemFechaReclamo  nro_reclamos    % Total\n",
       "1                  1           402  15.666407\n",
       "2                  2           394  15.354638\n",
       "4                  4           373  14.536243\n",
       "0                  0           360  14.029618\n",
       "3                  3           360  14.029618\n",
       "6                  6           349  13.600935\n",
       "5                  5           328  12.782541"
      ]
     },
     "execution_count": 49,
     "metadata": {},
     "output_type": "execute_result"
    }
   ],
   "source": [
    "groupped_data = df_analisis.groupby(['diaSemFechaReclamo'],as_index=False).agg({'target': 'count'})\n",
    "groupped_data.rename(columns={'target':'nro_reclamos'},inplace=True)\n",
    "groupped_data.sort_values(by=['nro_reclamos'],ascending=False,inplace=True)\n",
    "groupped_data[\"% Total\"] = groupped_data['nro_reclamos']/len(df_analisis)*100\n",
    "groupped_data.head(20)"
   ]
  },
  {
   "cell_type": "code",
   "execution_count": 50,
   "id": "fb6e05bf",
   "metadata": {},
   "outputs": [
    {
     "data": {
      "image/png": "[encoded data removed]",
      "text/plain": [
       "<Figure size 1000x300 with 1 Axes>"
      ]
     },
     "metadata": {},
     "output_type": "display_data"
    }
   ],
   "source": [
    "plt.figure(figsize=(10,3))\n",
    "ax=sns.countplot(data=df_analisis,x='diaSemFechaReclamo',\n",
    "                 order=df_analisis['diaSemFechaReclamo'].value_counts().index)\n",
    "ax.set_xticklabels(ax.get_xticklabels(), rotation=40, ha=\"right\")\n",
    "\n",
    "total = len(df_analisis)\n",
    "for p in ax.patches:\n",
    "    percentage = f'{100 * p.get_height() / total:.1f}%\\n'\n",
    "    x = p.get_x() + p.get_width() / 2\n",
    "    y = p.get_height()\n",
    "    ax.annotate(percentage, (x, y), ha='center', va='center')\n",
    "plt.tight_layout()\n",
    "plt.show()"
   ]
  },
  {
   "cell_type": "markdown",
   "id": "eef29cab",
   "metadata": {},
   "source": [
    "- Martes y Miercoles son los dias de semana que presentan la mayor cantidad reclamos. Cerca del 16% en ambos dias.\n",
    "- Sábado es el dia de la semana que presenta la menor cantidad de reclamos. Cerca del 12.8%."
   ]
  },
  {
   "cell_type": "markdown",
   "id": "13b34b22",
   "metadata": {},
   "source": [
    "**INGRESO**"
   ]
  },
  {
   "cell_type": "markdown",
   "id": "2bb41878",
   "metadata": {},
   "source": [
    "Se realiza el analisis respectivo según el target"
   ]
  },
  {
   "cell_type": "code",
   "execution_count": 55,
   "id": "f668890b",
   "metadata": {},
   "outputs": [
    {
     "data": {
      "image/png": "[encoded data removed]",
      "text/plain": [
       "<Figure size 1500x500 with 1 Axes>"
      ]
     },
     "metadata": {},
     "output_type": "display_data"
    }
   ],
   "source": [
    "plt.figure(figsize=(15,5))\n",
    "sns.histplot(data=df_analisis, x='ingreso',\n",
    "             kde=True,hue='target',bins=60)\n",
    "plt.show()"
   ]
  },
  {
   "cell_type": "markdown",
   "id": "c4b0308b",
   "metadata": {},
   "source": [
    "Se realiza el analisis de cajas para ver la presencia de valores atipicos y la concentración de valores"
   ]
  },
  {
   "cell_type": "code",
   "execution_count": 56,
   "id": "9bfd373f",
   "metadata": {},
   "outputs": [
    {
     "data": {
      "image/png": "[encoded data removed]",
      "text/plain": [
       "<Figure size 1500x600 with 1 Axes>"
      ]
     },
     "metadata": {},
     "output_type": "display_data"
    }
   ],
   "source": [
    "plt.figure(figsize=(15,6))\n",
    "sns.boxplot(df_analisis['ingreso'])\n",
    "plt.title(\"Boxpot de la variable ingreso \")\n",
    "plt.show()"
   ]
  },
  {
   "cell_type": "code",
   "execution_count": 57,
   "id": "c8b78225",
   "metadata": {},
   "outputs": [
    {
     "data": {
      "text/html": [
       "<div>\n",
       "<style scoped>\n",
       "    .dataframe tbody tr th:only-of-type {\n",
       "        vertical-align: middle;\n",
       "    }\n",
       "\n",
       "    .dataframe tbody tr th {\n",
       "        vertical-align: top;\n",
       "    }\n",
       "\n",
       "    .dataframe thead th {\n",
       "        text-align: right;\n",
       "    }\n",
       "</style>\n",
       "<table border=\"1\" class=\"dataframe\">\n",
       "  <thead>\n",
       "    <tr style=\"text-align: right;\">\n",
       "      <th></th>\n",
       "      <th>idCliente</th>\n",
       "      <th>sexo</th>\n",
       "      <th>edad</th>\n",
       "      <th>ingreso</th>\n",
       "      <th>tipoHogar</th>\n",
       "      <th>estadoCivil</th>\n",
       "      <th>numHijos</th>\n",
       "      <th>puntajeCredito</th>\n",
       "      <th>tipoTrabajo</th>\n",
       "      <th>educacion</th>\n",
       "      <th>fecInicioPoliza</th>\n",
       "      <th>tipoSeguro</th>\n",
       "      <th>montoSeguro</th>\n",
       "      <th>fechaReclamo</th>\n",
       "      <th>montoReclamo</th>\n",
       "      <th>target</th>\n",
       "      <th>mesFechaReclamo</th>\n",
       "      <th>diaSemFechaReclamo</th>\n",
       "    </tr>\n",
       "  </thead>\n",
       "  <tbody>\n",
       "    <tr>\n",
       "      <th>0</th>\n",
       "      <td>1</td>\n",
       "      <td>Femenino</td>\n",
       "      <td>28</td>\n",
       "      <td>558900</td>\n",
       "      <td>Departamento</td>\n",
       "      <td>Viudo</td>\n",
       "      <td>3</td>\n",
       "      <td>556</td>\n",
       "      <td>Empresario</td>\n",
       "      <td>Preparatoria</td>\n",
       "      <td>2022-03-28</td>\n",
       "      <td>Vida</td>\n",
       "      <td>1806</td>\n",
       "      <td>2022-11-14</td>\n",
       "      <td>558</td>\n",
       "      <td>0</td>\n",
       "      <td>11</td>\n",
       "      <td>0</td>\n",
       "    </tr>\n",
       "    <tr>\n",
       "      <th>1</th>\n",
       "      <td>2</td>\n",
       "      <td>Femenino</td>\n",
       "      <td>18</td>\n",
       "      <td>212925</td>\n",
       "      <td>Departamento</td>\n",
       "      <td>Viudo</td>\n",
       "      <td>1</td>\n",
       "      <td>330</td>\n",
       "      <td>Empleado</td>\n",
       "      <td>Posgrado</td>\n",
       "      <td>2022-09-15</td>\n",
       "      <td>Vida</td>\n",
       "      <td>1371</td>\n",
       "      <td>2022-04-25</td>\n",
       "      <td>922</td>\n",
       "      <td>0</td>\n",
       "      <td>4</td>\n",
       "      <td>0</td>\n",
       "    </tr>\n",
       "    <tr>\n",
       "      <th>2</th>\n",
       "      <td>3</td>\n",
       "      <td>Femenino</td>\n",
       "      <td>37</td>\n",
       "      <td>838328</td>\n",
       "      <td>Departamento</td>\n",
       "      <td>Casado</td>\n",
       "      <td>3</td>\n",
       "      <td>776</td>\n",
       "      <td>Empresario</td>\n",
       "      <td>Universidad</td>\n",
       "      <td>2022-03-18</td>\n",
       "      <td>Hogar</td>\n",
       "      <td>6751</td>\n",
       "      <td>2022-07-31</td>\n",
       "      <td>3128</td>\n",
       "      <td>0</td>\n",
       "      <td>7</td>\n",
       "      <td>6</td>\n",
       "    </tr>\n",
       "    <tr>\n",
       "      <th>3</th>\n",
       "      <td>4</td>\n",
       "      <td>Masculino</td>\n",
       "      <td>25</td>\n",
       "      <td>459616</td>\n",
       "      <td>Casa</td>\n",
       "      <td>Soltero</td>\n",
       "      <td>4</td>\n",
       "      <td>821</td>\n",
       "      <td>Independiente</td>\n",
       "      <td>Universidad</td>\n",
       "      <td>2022-11-14</td>\n",
       "      <td>Hogar</td>\n",
       "      <td>5448</td>\n",
       "      <td>2022-07-29</td>\n",
       "      <td>1493</td>\n",
       "      <td>0</td>\n",
       "      <td>7</td>\n",
       "      <td>4</td>\n",
       "    </tr>\n",
       "    <tr>\n",
       "      <th>5</th>\n",
       "      <td>6</td>\n",
       "      <td>Masculino</td>\n",
       "      <td>58</td>\n",
       "      <td>322007</td>\n",
       "      <td>Departamento</td>\n",
       "      <td>Soltero</td>\n",
       "      <td>3</td>\n",
       "      <td>445</td>\n",
       "      <td>Empleado</td>\n",
       "      <td>Posgrado</td>\n",
       "      <td>2022-09-29</td>\n",
       "      <td>Auto</td>\n",
       "      <td>6316</td>\n",
       "      <td>2022-09-06</td>\n",
       "      <td>4049</td>\n",
       "      <td>0</td>\n",
       "      <td>9</td>\n",
       "      <td>1</td>\n",
       "    </tr>\n",
       "  </tbody>\n",
       "</table>\n",
       "</div>"
      ],
      "text/plain": [
       "   idCliente       sexo  edad  ingreso     tipoHogar estadoCivil  numHijos  \\\n",
       "0          1   Femenino    28   558900  Departamento       Viudo         3   \n",
       "1          2   Femenino    18   212925  Departamento       Viudo         1   \n",
       "2          3   Femenino    37   838328  Departamento      Casado         3   \n",
       "3          4  Masculino    25   459616          Casa     Soltero         4   \n",
       "5          6  Masculino    58   322007  Departamento     Soltero         3   \n",
       "\n",
       "   puntajeCredito    tipoTrabajo     educacion fecInicioPoliza tipoSeguro  \\\n",
       "0             556     Empresario  Preparatoria      2022-03-28       Vida   \n",
       "1             330       Empleado      Posgrado      2022-09-15       Vida   \n",
       "2             776     Empresario   Universidad      2022-03-18      Hogar   \n",
       "3             821  Independiente   Universidad      2022-11-14      Hogar   \n",
       "5             445       Empleado      Posgrado      2022-09-29       Auto   \n",
       "\n",
       "   montoSeguro fechaReclamo  montoReclamo  target mesFechaReclamo  \\\n",
       "0         1806   2022-11-14           558       0              11   \n",
       "1         1371   2022-04-25           922       0               4   \n",
       "2         6751   2022-07-31          3128       0               7   \n",
       "3         5448   2022-07-29          1493       0               7   \n",
       "5         6316   2022-09-06          4049       0               9   \n",
       "\n",
       "  diaSemFechaReclamo  \n",
       "0                  0  \n",
       "1                  0  \n",
       "2                  6  \n",
       "3                  4  \n",
       "5                  1  "
      ]
     },
     "execution_count": 57,
     "metadata": {},
     "output_type": "execute_result"
    }
   ],
   "source": [
    "df_analisis.head(5)"
   ]
  },
  {
   "cell_type": "markdown",
   "id": "3104b93b",
   "metadata": {},
   "source": [
    "- Se observa que la variable presenta una distribución tri-modal.\n",
    "- No se tiene una distribución normal.\n",
    "- Se preseta una distribución cercana a una uniforme\n",
    "- Los datos parecen estar enmascarados o presentación algún error de escritura. Estos necesitan un posterior tratamiento para su mejor uso.\n",
    "- Se necesita validar los sistema de captura o de lo contario conversar con el negocio sobre el comportamiento de esta variable."
   ]
  },
  {
   "cell_type": "markdown",
   "id": "a7aa9072",
   "metadata": {},
   "source": [
    "**PUNTAJE DE CREDITO**"
   ]
  },
  {
   "cell_type": "markdown",
   "id": "ed6c3dfa",
   "metadata": {},
   "source": [
    "Se realiza el analisis respectivo según el target"
   ]
  },
  {
   "cell_type": "code",
   "execution_count": 61,
   "id": "a20e37f9",
   "metadata": {},
   "outputs": [
    {
     "data": {
      "image/png": "[encoded data removed]",
      "text/plain": [
       "<Figure size 1500x500 with 1 Axes>"
      ]
     },
     "metadata": {},
     "output_type": "display_data"
    }
   ],
   "source": [
    "plt.figure(figsize=(15,5))\n",
    "sns.histplot(data=df_analisis, x='puntajeCredito',\n",
    "             kde=True,hue='target',bins=60)\n",
    "plt.show()"
   ]
  },
  {
   "cell_type": "markdown",
   "id": "893ff84e",
   "metadata": {},
   "source": [
    "- Se observa que la variable presenta una distribución tri-modal.\n",
    "- No se tiene una distribución normal.\n",
    "- Se preseta una distribución cercana a una uniforme\n",
    "- Los datos parecen estar enmascarados o presentación algún error de escritura. Estos necesitan un posterior tratamiento para su mejor uso.\n",
    "- Se necesita validar los sistema de captura o de lo contario conversar con el negocio sobre el comportamiento de esta variable."
   ]
  },
  {
   "cell_type": "markdown",
   "id": "9aa43b22",
   "metadata": {},
   "source": [
    "**MONTO SEGURO**"
   ]
  },
  {
   "cell_type": "markdown",
   "id": "ff0a316d",
   "metadata": {},
   "source": [
    "Se realiza el analisis respectivo según el target"
   ]
  },
  {
   "cell_type": "code",
   "execution_count": 63,
   "id": "187c83f2",
   "metadata": {},
   "outputs": [
    {
     "data": {
      "image/png": "[encoded data removed]",
      "text/plain": [
       "<Figure size 1500x500 with 1 Axes>"
      ]
     },
     "metadata": {},
     "output_type": "display_data"
    }
   ],
   "source": [
    "plt.figure(figsize=(15,5))\n",
    "sns.histplot(data=df_analisis, x='montoSeguro',\n",
    "             kde=True,hue='target',bins=60)\n",
    "plt.show()"
   ]
  },
  {
   "cell_type": "markdown",
   "id": "a21477b0",
   "metadata": {},
   "source": [
    "- Se observa que la variable presenta una distribución bi-modal.\n",
    "- No se tiene una distribución normal.\n",
    "- Se preseta una distribución cercana a una uniforme\n",
    "- Los datos parecen estar enmascarados o presentación algún error de escritura. Estos necesitan un posterior tratamiento para su mejor uso.\n",
    "- Se necesita validar los sistema de captura o de lo contario conversar con el negocio sobre el comportamiento de esta variable."
   ]
  },
  {
   "cell_type": "markdown",
   "id": "35243db8",
   "metadata": {},
   "source": [
    "**MONTO RECLAMO**"
   ]
  },
  {
   "cell_type": "markdown",
   "id": "c9a9592a",
   "metadata": {},
   "source": [
    "Se realiza el analisis respectivo según el target"
   ]
  },
  {
   "cell_type": "code",
   "execution_count": 66,
   "id": "943f9f39",
   "metadata": {},
   "outputs": [
    {
     "data": {
      "image/png": "[encoded data removed]",
      "text/plain": [
       "<Figure size 1500x500 with 1 Axes>"
      ]
     },
     "metadata": {},
     "output_type": "display_data"
    }
   ],
   "source": [
    "plt.figure(figsize=(15,5))\n",
    "sns.histplot(data=df_analisis, x='montoReclamo',\n",
    "             kde=True,hue='target',bins=60)\n",
    "plt.show()"
   ]
  },
  {
   "cell_type": "markdown",
   "id": "6b31d695",
   "metadata": {},
   "source": [
    "Se realiza el analisis de cajas para ver la presencia de valores atipicos y la concentración de valores"
   ]
  },
  {
   "cell_type": "code",
   "execution_count": 67,
   "id": "a12aa537",
   "metadata": {},
   "outputs": [
    {
     "data": {
      "image/png": "[encoded data removed]",
      "text/plain": [
       "<Figure size 1500x600 with 1 Axes>"
      ]
     },
     "metadata": {},
     "output_type": "display_data"
    }
   ],
   "source": [
    "plt.figure(figsize=(15,6))\n",
    "sns.boxplot(df_analisis['montoReclamo'])\n",
    "plt.title(\"Boxpot de la variable ingreso \")\n",
    "plt.show()"
   ]
  },
  {
   "cell_type": "markdown",
   "id": "8e6b067e",
   "metadata": {},
   "source": [
    "A diferencia del resto de variables cuantitativas esta variable presenta las siguientes características:\n",
    "- Se observa que la variable presenta una distribución con cola hacia la derecha. Asimetria positiva.\n",
    "- Se evidencia la presencia de valores outliers hacia la derecha"
   ]
  },
  {
   "cell_type": "code",
   "execution_count": null,
   "id": "b2bb3563",
   "metadata": {},
   "outputs": [],
   "source": []
  },
  {
   "cell_type": "code",
   "execution_count": null,
   "id": "f06ec61a",
   "metadata": {},
   "outputs": [],
   "source": []
  },
  {
   "cell_type": "code",
   "execution_count": null,
   "id": "bce93846",
   "metadata": {},
   "outputs": [],
   "source": []
  },
  {
   "cell_type": "code",
   "execution_count": null,
   "id": "8ead0027",
   "metadata": {},
   "outputs": [],
   "source": []
  },
  {
   "cell_type": "code",
   "execution_count": null,
   "id": "b99b6c0a",
   "metadata": {},
   "outputs": [],
   "source": []
  },
  {
   "cell_type": "code",
   "execution_count": null,
   "id": "0cccad90",
   "metadata": {},
   "outputs": [],
   "source": []
  }
 ],
 "metadata": {
  "kernelspec": {
   "display_name": "Python 3 (ipykernel)",
   "language": "python",
   "name": "python3"
  },
  "language_info": {
   "codemirror_mode": {
    "name": "ipython",
    "version": 3
   },
   "file_extension": ".py",
   "mimetype": "text/x-python",
   "name": "python",
   "nbconvert_exporter": "python",
   "pygments_lexer": "ipython3",
   "version": "3.9.13"
  }
 },
 "nbformat": 4,
 "nbformat_minor": 5
}
